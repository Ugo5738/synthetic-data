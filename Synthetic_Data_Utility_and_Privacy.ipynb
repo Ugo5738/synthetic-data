{
  "nbformat": 4,
  "nbformat_minor": 0,
  "metadata": {
    "colab": {
      "name": "Synthetic Data Utility and Privacy.ipynb",
      "provenance": [],
      "collapsed_sections": [],
      "mount_file_id": "1sU90h4l8n3uBdEembA6PwfwqDTODuJ_n",
      "authorship_tag": "ABX9TyMC0Crfr5IkP25XNLFeJmb3",
      "include_colab_link": true
    },
    "kernelspec": {
      "name": "python3",
      "display_name": "Python 3"
    },
    "language_info": {
      "name": "python"
    },
    "gpuClass": "standard"
  },
  "cells": [
    {
      "cell_type": "markdown",
      "metadata": {
        "id": "view-in-github",
        "colab_type": "text"
      },
      "source": [
        "<a href=\"https://colab.research.google.com/github/Ugo5738/synthetic-data/blob/main/Synthetic_Data_Utility_and_Privacy.ipynb\" target=\"_parent\"><img src=\"https://colab.research.google.com/assets/colab-badge.svg\" alt=\"Open In Colab\"/></a>"
      ]
    },
    {
      "cell_type": "markdown",
      "source": [
        "# How to Run the code:\n",
        "\n",
        "- The code is designed to run from top to bottom."
      ],
      "metadata": {
        "id": "G8qYybdUHc6d"
      }
    },
    {
      "cell_type": "markdown",
      "source": [
        "## Make imports "
      ],
      "metadata": {
        "id": "K5xR1E-sXL4r"
      }
    },
    {
      "cell_type": "code",
      "source": [
        "!pip install diffprivlib"
      ],
      "metadata": {
        "colab": {
          "base_uri": "https://localhost:8080/"
        },
        "id": "sGijbnmGSJiY",
        "outputId": "b5d48a1f-eaae-4cac-9ba1-7716616a66d9"
      },
      "execution_count": null,
      "outputs": [
        {
          "output_type": "stream",
          "name": "stdout",
          "text": [
            "Looking in indexes: https://pypi.org/simple, https://us-python.pkg.dev/colab-wheels/public/simple/\n",
            "Requirement already satisfied: diffprivlib in /usr/local/lib/python3.7/dist-packages (0.5.2)\n",
            "Requirement already satisfied: scikit-learn>=0.23.0 in /usr/local/lib/python3.7/dist-packages (from diffprivlib) (1.0.2)\n",
            "Requirement already satisfied: joblib>=0.16.0 in /usr/local/lib/python3.7/dist-packages (from diffprivlib) (1.1.0)\n",
            "Requirement already satisfied: setuptools>=49.0.0 in /usr/local/lib/python3.7/dist-packages (from diffprivlib) (57.4.0)\n",
            "Requirement already satisfied: crlibm>=1.0.3 in /usr/local/lib/python3.7/dist-packages (from diffprivlib) (1.0.3)\n",
            "Requirement already satisfied: numpy>=1.19.0 in /usr/local/lib/python3.7/dist-packages (from diffprivlib) (1.21.6)\n",
            "Requirement already satisfied: scipy>=1.5.0 in /usr/local/lib/python3.7/dist-packages (from diffprivlib) (1.7.3)\n",
            "Requirement already satisfied: threadpoolctl>=2.0.0 in /usr/local/lib/python3.7/dist-packages (from scikit-learn>=0.23.0->diffprivlib) (3.1.0)\n"
          ]
        }
      ]
    },
    {
      "cell_type": "code",
      "execution_count": null,
      "metadata": {
        "id": "L4b1ECBBMfpR"
      },
      "outputs": [],
      "source": [
        "import pandas as pd\n",
        "import numpy as np\n",
        "import matplotlib.pyplot as plt\n",
        "\n",
        "# preprocessing\n",
        "from sklearn.preprocessing import LabelEncoder, PolynomialFeatures\n",
        "from imblearn.over_sampling import SMOTE\n",
        "from sklearn.model_selection import train_test_split, GridSearchCV\n",
        "\n",
        "# models\n",
        "from sklearn.ensemble import RandomForestClassifier, ExtraTreesClassifier\n",
        "import xgboost as xgb\n",
        "\n",
        "# privacy\n",
        "from statistics import mean\n",
        "from diffprivlib import tools as dp\n",
        "\n",
        "import warnings\n",
        "warnings.filterwarnings('ignore')"
      ]
    },
    {
      "cell_type": "markdown",
      "source": [
        "## Explore Datasets"
      ],
      "metadata": {
        "id": "nXmxWSXWj5A7"
      }
    },
    {
      "cell_type": "code",
      "source": [
        "df1 = pd.read_csv(\"/content/drive/MyDrive/public_health_ori.csv\")\n",
        "df2 = pd.read_csv(\"/content/drive/MyDrive/public_health_syn_1.csv\")\n",
        "df3 = pd.read_csv(\"/content/drive/MyDrive/public_health_syn_2.csv\")"
      ],
      "metadata": {
        "id": "eiWAvQeKkLLM"
      },
      "execution_count": null,
      "outputs": []
    },
    {
      "cell_type": "markdown",
      "source": [
        "### Dataset 1"
      ],
      "metadata": {
        "id": "JTkfToD-kRp5"
      }
    },
    {
      "cell_type": "code",
      "source": [
        "df1.head()"
      ],
      "metadata": {
        "colab": {
          "base_uri": "https://localhost:8080/",
          "height": 287
        },
        "id": "9ftCFx5rkhg4",
        "outputId": "7fd96cf8-c4e2-4faa-f305-2ca7ad2eb1d8"
      },
      "execution_count": null,
      "outputs": [
        {
          "output_type": "execute_result",
          "data": {
            "text/plain": [
              "   Unnamed: 0  gender   age  hypertension  heart_disease ever_married  \\\n",
              "0           0    Male   3.0             0              0           No   \n",
              "1           1    Male  58.0             1              0          Yes   \n",
              "2           2  Female   8.0             0              0           No   \n",
              "3           3  Female  70.0             0              0          Yes   \n",
              "4           4    Male  14.0             0              0           No   \n",
              "\n",
              "      work_type Residence_type  avg_glucose_level   bmi   smoking_status  \\\n",
              "0      children          Rural              95.12  18.0              NaN   \n",
              "1       Private          Urban              87.96  39.2     never smoked   \n",
              "2       Private          Urban             110.89  17.6              NaN   \n",
              "3       Private          Rural              69.04  35.9  formerly smoked   \n",
              "4  Never_worked          Rural             161.28  19.1              NaN   \n",
              "\n",
              "   stroke  \n",
              "0       0  \n",
              "1       0  \n",
              "2       0  \n",
              "3       0  \n",
              "4       0  "
            ],
            "text/html": [
              "\n",
              "  <div id=\"df-55846858-7b54-45e4-896a-f0dc3ce311b6\">\n",
              "    <div class=\"colab-df-container\">\n",
              "      <div>\n",
              "<style scoped>\n",
              "    .dataframe tbody tr th:only-of-type {\n",
              "        vertical-align: middle;\n",
              "    }\n",
              "\n",
              "    .dataframe tbody tr th {\n",
              "        vertical-align: top;\n",
              "    }\n",
              "\n",
              "    .dataframe thead th {\n",
              "        text-align: right;\n",
              "    }\n",
              "</style>\n",
              "<table border=\"1\" class=\"dataframe\">\n",
              "  <thead>\n",
              "    <tr style=\"text-align: right;\">\n",
              "      <th></th>\n",
              "      <th>Unnamed: 0</th>\n",
              "      <th>gender</th>\n",
              "      <th>age</th>\n",
              "      <th>hypertension</th>\n",
              "      <th>heart_disease</th>\n",
              "      <th>ever_married</th>\n",
              "      <th>work_type</th>\n",
              "      <th>Residence_type</th>\n",
              "      <th>avg_glucose_level</th>\n",
              "      <th>bmi</th>\n",
              "      <th>smoking_status</th>\n",
              "      <th>stroke</th>\n",
              "    </tr>\n",
              "  </thead>\n",
              "  <tbody>\n",
              "    <tr>\n",
              "      <th>0</th>\n",
              "      <td>0</td>\n",
              "      <td>Male</td>\n",
              "      <td>3.0</td>\n",
              "      <td>0</td>\n",
              "      <td>0</td>\n",
              "      <td>No</td>\n",
              "      <td>children</td>\n",
              "      <td>Rural</td>\n",
              "      <td>95.12</td>\n",
              "      <td>18.0</td>\n",
              "      <td>NaN</td>\n",
              "      <td>0</td>\n",
              "    </tr>\n",
              "    <tr>\n",
              "      <th>1</th>\n",
              "      <td>1</td>\n",
              "      <td>Male</td>\n",
              "      <td>58.0</td>\n",
              "      <td>1</td>\n",
              "      <td>0</td>\n",
              "      <td>Yes</td>\n",
              "      <td>Private</td>\n",
              "      <td>Urban</td>\n",
              "      <td>87.96</td>\n",
              "      <td>39.2</td>\n",
              "      <td>never smoked</td>\n",
              "      <td>0</td>\n",
              "    </tr>\n",
              "    <tr>\n",
              "      <th>2</th>\n",
              "      <td>2</td>\n",
              "      <td>Female</td>\n",
              "      <td>8.0</td>\n",
              "      <td>0</td>\n",
              "      <td>0</td>\n",
              "      <td>No</td>\n",
              "      <td>Private</td>\n",
              "      <td>Urban</td>\n",
              "      <td>110.89</td>\n",
              "      <td>17.6</td>\n",
              "      <td>NaN</td>\n",
              "      <td>0</td>\n",
              "    </tr>\n",
              "    <tr>\n",
              "      <th>3</th>\n",
              "      <td>3</td>\n",
              "      <td>Female</td>\n",
              "      <td>70.0</td>\n",
              "      <td>0</td>\n",
              "      <td>0</td>\n",
              "      <td>Yes</td>\n",
              "      <td>Private</td>\n",
              "      <td>Rural</td>\n",
              "      <td>69.04</td>\n",
              "      <td>35.9</td>\n",
              "      <td>formerly smoked</td>\n",
              "      <td>0</td>\n",
              "    </tr>\n",
              "    <tr>\n",
              "      <th>4</th>\n",
              "      <td>4</td>\n",
              "      <td>Male</td>\n",
              "      <td>14.0</td>\n",
              "      <td>0</td>\n",
              "      <td>0</td>\n",
              "      <td>No</td>\n",
              "      <td>Never_worked</td>\n",
              "      <td>Rural</td>\n",
              "      <td>161.28</td>\n",
              "      <td>19.1</td>\n",
              "      <td>NaN</td>\n",
              "      <td>0</td>\n",
              "    </tr>\n",
              "  </tbody>\n",
              "</table>\n",
              "</div>\n",
              "      <button class=\"colab-df-convert\" onclick=\"convertToInteractive('df-55846858-7b54-45e4-896a-f0dc3ce311b6')\"\n",
              "              title=\"Convert this dataframe to an interactive table.\"\n",
              "              style=\"display:none;\">\n",
              "        \n",
              "  <svg xmlns=\"http://www.w3.org/2000/svg\" height=\"24px\"viewBox=\"0 0 24 24\"\n",
              "       width=\"24px\">\n",
              "    <path d=\"M0 0h24v24H0V0z\" fill=\"none\"/>\n",
              "    <path d=\"M18.56 5.44l.94 2.06.94-2.06 2.06-.94-2.06-.94-.94-2.06-.94 2.06-2.06.94zm-11 1L8.5 8.5l.94-2.06 2.06-.94-2.06-.94L8.5 2.5l-.94 2.06-2.06.94zm10 10l.94 2.06.94-2.06 2.06-.94-2.06-.94-.94-2.06-.94 2.06-2.06.94z\"/><path d=\"M17.41 7.96l-1.37-1.37c-.4-.4-.92-.59-1.43-.59-.52 0-1.04.2-1.43.59L10.3 9.45l-7.72 7.72c-.78.78-.78 2.05 0 2.83L4 21.41c.39.39.9.59 1.41.59.51 0 1.02-.2 1.41-.59l7.78-7.78 2.81-2.81c.8-.78.8-2.07 0-2.86zM5.41 20L4 18.59l7.72-7.72 1.47 1.35L5.41 20z\"/>\n",
              "  </svg>\n",
              "      </button>\n",
              "      \n",
              "  <style>\n",
              "    .colab-df-container {\n",
              "      display:flex;\n",
              "      flex-wrap:wrap;\n",
              "      gap: 12px;\n",
              "    }\n",
              "\n",
              "    .colab-df-convert {\n",
              "      background-color: #E8F0FE;\n",
              "      border: none;\n",
              "      border-radius: 50%;\n",
              "      cursor: pointer;\n",
              "      display: none;\n",
              "      fill: #1967D2;\n",
              "      height: 32px;\n",
              "      padding: 0 0 0 0;\n",
              "      width: 32px;\n",
              "    }\n",
              "\n",
              "    .colab-df-convert:hover {\n",
              "      background-color: #E2EBFA;\n",
              "      box-shadow: 0px 1px 2px rgba(60, 64, 67, 0.3), 0px 1px 3px 1px rgba(60, 64, 67, 0.15);\n",
              "      fill: #174EA6;\n",
              "    }\n",
              "\n",
              "    [theme=dark] .colab-df-convert {\n",
              "      background-color: #3B4455;\n",
              "      fill: #D2E3FC;\n",
              "    }\n",
              "\n",
              "    [theme=dark] .colab-df-convert:hover {\n",
              "      background-color: #434B5C;\n",
              "      box-shadow: 0px 1px 3px 1px rgba(0, 0, 0, 0.15);\n",
              "      filter: drop-shadow(0px 1px 2px rgba(0, 0, 0, 0.3));\n",
              "      fill: #FFFFFF;\n",
              "    }\n",
              "  </style>\n",
              "\n",
              "      <script>\n",
              "        const buttonEl =\n",
              "          document.querySelector('#df-55846858-7b54-45e4-896a-f0dc3ce311b6 button.colab-df-convert');\n",
              "        buttonEl.style.display =\n",
              "          google.colab.kernel.accessAllowed ? 'block' : 'none';\n",
              "\n",
              "        async function convertToInteractive(key) {\n",
              "          const element = document.querySelector('#df-55846858-7b54-45e4-896a-f0dc3ce311b6');\n",
              "          const dataTable =\n",
              "            await google.colab.kernel.invokeFunction('convertToInteractive',\n",
              "                                                     [key], {});\n",
              "          if (!dataTable) return;\n",
              "\n",
              "          const docLinkHtml = 'Like what you see? Visit the ' +\n",
              "            '<a target=\"_blank\" href=https://colab.research.google.com/notebooks/data_table.ipynb>data table notebook</a>'\n",
              "            + ' to learn more about interactive tables.';\n",
              "          element.innerHTML = '';\n",
              "          dataTable['output_type'] = 'display_data';\n",
              "          await google.colab.output.renderOutput(dataTable, element);\n",
              "          const docLink = document.createElement('div');\n",
              "          docLink.innerHTML = docLinkHtml;\n",
              "          element.appendChild(docLink);\n",
              "        }\n",
              "      </script>\n",
              "    </div>\n",
              "  </div>\n",
              "  "
            ]
          },
          "metadata": {},
          "execution_count": 80
        }
      ]
    },
    {
      "cell_type": "code",
      "source": [
        "df1.describe()"
      ],
      "metadata": {
        "colab": {
          "base_uri": "https://localhost:8080/",
          "height": 364
        },
        "id": "tWLfdk8Imtqm",
        "outputId": "d510c93f-b02d-4d22-c990-cdc4d802054d"
      },
      "execution_count": null,
      "outputs": [
        {
          "output_type": "execute_result",
          "data": {
            "text/plain": [
              "         Unnamed: 0           age  hypertension  heart_disease  \\\n",
              "count  43400.000000  43400.000000  43400.000000   43400.000000   \n",
              "mean   21699.500000     42.217894      0.093571       0.047512   \n",
              "std    12528.645178     22.519649      0.291235       0.212733   \n",
              "min        0.000000      0.080000      0.000000       0.000000   \n",
              "25%    10849.750000     24.000000      0.000000       0.000000   \n",
              "50%    21699.500000     44.000000      0.000000       0.000000   \n",
              "75%    32549.250000     60.000000      0.000000       0.000000   \n",
              "max    43399.000000     82.000000      1.000000       1.000000   \n",
              "\n",
              "       avg_glucose_level           bmi        stroke  \n",
              "count       43400.000000  41938.000000  43400.000000  \n",
              "mean          104.482750     28.605038      0.018041  \n",
              "std            43.111751      7.770020      0.133103  \n",
              "min            55.000000     10.100000      0.000000  \n",
              "25%            77.540000     23.200000      0.000000  \n",
              "50%            91.580000     27.700000      0.000000  \n",
              "75%           112.070000     32.900000      0.000000  \n",
              "max           291.050000     97.600000      1.000000  "
            ],
            "text/html": [
              "\n",
              "  <div id=\"df-7884e9aa-715f-4d7b-9267-fdf376de3757\">\n",
              "    <div class=\"colab-df-container\">\n",
              "      <div>\n",
              "<style scoped>\n",
              "    .dataframe tbody tr th:only-of-type {\n",
              "        vertical-align: middle;\n",
              "    }\n",
              "\n",
              "    .dataframe tbody tr th {\n",
              "        vertical-align: top;\n",
              "    }\n",
              "\n",
              "    .dataframe thead th {\n",
              "        text-align: right;\n",
              "    }\n",
              "</style>\n",
              "<table border=\"1\" class=\"dataframe\">\n",
              "  <thead>\n",
              "    <tr style=\"text-align: right;\">\n",
              "      <th></th>\n",
              "      <th>Unnamed: 0</th>\n",
              "      <th>age</th>\n",
              "      <th>hypertension</th>\n",
              "      <th>heart_disease</th>\n",
              "      <th>avg_glucose_level</th>\n",
              "      <th>bmi</th>\n",
              "      <th>stroke</th>\n",
              "    </tr>\n",
              "  </thead>\n",
              "  <tbody>\n",
              "    <tr>\n",
              "      <th>count</th>\n",
              "      <td>43400.000000</td>\n",
              "      <td>43400.000000</td>\n",
              "      <td>43400.000000</td>\n",
              "      <td>43400.000000</td>\n",
              "      <td>43400.000000</td>\n",
              "      <td>41938.000000</td>\n",
              "      <td>43400.000000</td>\n",
              "    </tr>\n",
              "    <tr>\n",
              "      <th>mean</th>\n",
              "      <td>21699.500000</td>\n",
              "      <td>42.217894</td>\n",
              "      <td>0.093571</td>\n",
              "      <td>0.047512</td>\n",
              "      <td>104.482750</td>\n",
              "      <td>28.605038</td>\n",
              "      <td>0.018041</td>\n",
              "    </tr>\n",
              "    <tr>\n",
              "      <th>std</th>\n",
              "      <td>12528.645178</td>\n",
              "      <td>22.519649</td>\n",
              "      <td>0.291235</td>\n",
              "      <td>0.212733</td>\n",
              "      <td>43.111751</td>\n",
              "      <td>7.770020</td>\n",
              "      <td>0.133103</td>\n",
              "    </tr>\n",
              "    <tr>\n",
              "      <th>min</th>\n",
              "      <td>0.000000</td>\n",
              "      <td>0.080000</td>\n",
              "      <td>0.000000</td>\n",
              "      <td>0.000000</td>\n",
              "      <td>55.000000</td>\n",
              "      <td>10.100000</td>\n",
              "      <td>0.000000</td>\n",
              "    </tr>\n",
              "    <tr>\n",
              "      <th>25%</th>\n",
              "      <td>10849.750000</td>\n",
              "      <td>24.000000</td>\n",
              "      <td>0.000000</td>\n",
              "      <td>0.000000</td>\n",
              "      <td>77.540000</td>\n",
              "      <td>23.200000</td>\n",
              "      <td>0.000000</td>\n",
              "    </tr>\n",
              "    <tr>\n",
              "      <th>50%</th>\n",
              "      <td>21699.500000</td>\n",
              "      <td>44.000000</td>\n",
              "      <td>0.000000</td>\n",
              "      <td>0.000000</td>\n",
              "      <td>91.580000</td>\n",
              "      <td>27.700000</td>\n",
              "      <td>0.000000</td>\n",
              "    </tr>\n",
              "    <tr>\n",
              "      <th>75%</th>\n",
              "      <td>32549.250000</td>\n",
              "      <td>60.000000</td>\n",
              "      <td>0.000000</td>\n",
              "      <td>0.000000</td>\n",
              "      <td>112.070000</td>\n",
              "      <td>32.900000</td>\n",
              "      <td>0.000000</td>\n",
              "    </tr>\n",
              "    <tr>\n",
              "      <th>max</th>\n",
              "      <td>43399.000000</td>\n",
              "      <td>82.000000</td>\n",
              "      <td>1.000000</td>\n",
              "      <td>1.000000</td>\n",
              "      <td>291.050000</td>\n",
              "      <td>97.600000</td>\n",
              "      <td>1.000000</td>\n",
              "    </tr>\n",
              "  </tbody>\n",
              "</table>\n",
              "</div>\n",
              "      <button class=\"colab-df-convert\" onclick=\"convertToInteractive('df-7884e9aa-715f-4d7b-9267-fdf376de3757')\"\n",
              "              title=\"Convert this dataframe to an interactive table.\"\n",
              "              style=\"display:none;\">\n",
              "        \n",
              "  <svg xmlns=\"http://www.w3.org/2000/svg\" height=\"24px\"viewBox=\"0 0 24 24\"\n",
              "       width=\"24px\">\n",
              "    <path d=\"M0 0h24v24H0V0z\" fill=\"none\"/>\n",
              "    <path d=\"M18.56 5.44l.94 2.06.94-2.06 2.06-.94-2.06-.94-.94-2.06-.94 2.06-2.06.94zm-11 1L8.5 8.5l.94-2.06 2.06-.94-2.06-.94L8.5 2.5l-.94 2.06-2.06.94zm10 10l.94 2.06.94-2.06 2.06-.94-2.06-.94-.94-2.06-.94 2.06-2.06.94z\"/><path d=\"M17.41 7.96l-1.37-1.37c-.4-.4-.92-.59-1.43-.59-.52 0-1.04.2-1.43.59L10.3 9.45l-7.72 7.72c-.78.78-.78 2.05 0 2.83L4 21.41c.39.39.9.59 1.41.59.51 0 1.02-.2 1.41-.59l7.78-7.78 2.81-2.81c.8-.78.8-2.07 0-2.86zM5.41 20L4 18.59l7.72-7.72 1.47 1.35L5.41 20z\"/>\n",
              "  </svg>\n",
              "      </button>\n",
              "      \n",
              "  <style>\n",
              "    .colab-df-container {\n",
              "      display:flex;\n",
              "      flex-wrap:wrap;\n",
              "      gap: 12px;\n",
              "    }\n",
              "\n",
              "    .colab-df-convert {\n",
              "      background-color: #E8F0FE;\n",
              "      border: none;\n",
              "      border-radius: 50%;\n",
              "      cursor: pointer;\n",
              "      display: none;\n",
              "      fill: #1967D2;\n",
              "      height: 32px;\n",
              "      padding: 0 0 0 0;\n",
              "      width: 32px;\n",
              "    }\n",
              "\n",
              "    .colab-df-convert:hover {\n",
              "      background-color: #E2EBFA;\n",
              "      box-shadow: 0px 1px 2px rgba(60, 64, 67, 0.3), 0px 1px 3px 1px rgba(60, 64, 67, 0.15);\n",
              "      fill: #174EA6;\n",
              "    }\n",
              "\n",
              "    [theme=dark] .colab-df-convert {\n",
              "      background-color: #3B4455;\n",
              "      fill: #D2E3FC;\n",
              "    }\n",
              "\n",
              "    [theme=dark] .colab-df-convert:hover {\n",
              "      background-color: #434B5C;\n",
              "      box-shadow: 0px 1px 3px 1px rgba(0, 0, 0, 0.15);\n",
              "      filter: drop-shadow(0px 1px 2px rgba(0, 0, 0, 0.3));\n",
              "      fill: #FFFFFF;\n",
              "    }\n",
              "  </style>\n",
              "\n",
              "      <script>\n",
              "        const buttonEl =\n",
              "          document.querySelector('#df-7884e9aa-715f-4d7b-9267-fdf376de3757 button.colab-df-convert');\n",
              "        buttonEl.style.display =\n",
              "          google.colab.kernel.accessAllowed ? 'block' : 'none';\n",
              "\n",
              "        async function convertToInteractive(key) {\n",
              "          const element = document.querySelector('#df-7884e9aa-715f-4d7b-9267-fdf376de3757');\n",
              "          const dataTable =\n",
              "            await google.colab.kernel.invokeFunction('convertToInteractive',\n",
              "                                                     [key], {});\n",
              "          if (!dataTable) return;\n",
              "\n",
              "          const docLinkHtml = 'Like what you see? Visit the ' +\n",
              "            '<a target=\"_blank\" href=https://colab.research.google.com/notebooks/data_table.ipynb>data table notebook</a>'\n",
              "            + ' to learn more about interactive tables.';\n",
              "          element.innerHTML = '';\n",
              "          dataTable['output_type'] = 'display_data';\n",
              "          await google.colab.output.renderOutput(dataTable, element);\n",
              "          const docLink = document.createElement('div');\n",
              "          docLink.innerHTML = docLinkHtml;\n",
              "          element.appendChild(docLink);\n",
              "        }\n",
              "      </script>\n",
              "    </div>\n",
              "  </div>\n",
              "  "
            ]
          },
          "metadata": {},
          "execution_count": 81
        }
      ]
    },
    {
      "cell_type": "markdown",
      "source": [
        "View columns with null values"
      ],
      "metadata": {
        "id": "01wNAzzlmmQW"
      }
    },
    {
      "cell_type": "code",
      "source": [
        "df1.isnull().sum()"
      ],
      "metadata": {
        "colab": {
          "base_uri": "https://localhost:8080/"
        },
        "id": "HJUC1yoQlhRU",
        "outputId": "eb742f84-bff6-45a3-e855-296dab678cbd"
      },
      "execution_count": null,
      "outputs": [
        {
          "output_type": "execute_result",
          "data": {
            "text/plain": [
              "Unnamed: 0               0\n",
              "gender                   0\n",
              "age                      0\n",
              "hypertension             0\n",
              "heart_disease            0\n",
              "ever_married             0\n",
              "work_type                0\n",
              "Residence_type           0\n",
              "avg_glucose_level        0\n",
              "bmi                   1462\n",
              "smoking_status       13292\n",
              "stroke                   0\n",
              "dtype: int64"
            ]
          },
          "metadata": {},
          "execution_count": 82
        }
      ]
    },
    {
      "cell_type": "markdown",
      "source": [
        "- We can fill the bmi column using its mean\n",
        "- We can fill the smoking_status column using:\n",
        "  - the age column\n",
        "  - an Xgboost model"
      ],
      "metadata": {
        "id": "ZYAYjoAtkmPF"
      }
    },
    {
      "cell_type": "markdown",
      "source": [
        "**Columns with categorical values**\n",
        "\n",
        "These feature columns have to be transformed to numerical columns"
      ],
      "metadata": {
        "id": "XhQp3iEamMsr"
      }
    },
    {
      "cell_type": "code",
      "source": [
        "df1.gender.value_counts()"
      ],
      "metadata": {
        "colab": {
          "base_uri": "https://localhost:8080/"
        },
        "id": "uk5_DG4Yl_qc",
        "outputId": "697b5e49-e208-4045-fcd8-65ed5687932c"
      },
      "execution_count": null,
      "outputs": [
        {
          "output_type": "execute_result",
          "data": {
            "text/plain": [
              "Female    25665\n",
              "Male      17724\n",
              "Other        11\n",
              "Name: gender, dtype: int64"
            ]
          },
          "metadata": {},
          "execution_count": 83
        }
      ]
    },
    {
      "cell_type": "code",
      "source": [
        "df1.ever_married.value_counts()"
      ],
      "metadata": {
        "colab": {
          "base_uri": "https://localhost:8080/"
        },
        "id": "tjP9ggDYmUS3",
        "outputId": "f39835da-705f-4d9e-ddac-28d9eb065548"
      },
      "execution_count": null,
      "outputs": [
        {
          "output_type": "execute_result",
          "data": {
            "text/plain": [
              "Yes    27938\n",
              "No     15462\n",
              "Name: ever_married, dtype: int64"
            ]
          },
          "metadata": {},
          "execution_count": 84
        }
      ]
    },
    {
      "cell_type": "code",
      "source": [
        "df1.work_type.value_counts()"
      ],
      "metadata": {
        "colab": {
          "base_uri": "https://localhost:8080/"
        },
        "id": "bIOhV7romWli",
        "outputId": "44de3d79-6810-4a8e-882f-0b9b8a48e3dc"
      },
      "execution_count": null,
      "outputs": [
        {
          "output_type": "execute_result",
          "data": {
            "text/plain": [
              "Private          24834\n",
              "Self-employed     6793\n",
              "children          6156\n",
              "Govt_job          5440\n",
              "Never_worked       177\n",
              "Name: work_type, dtype: int64"
            ]
          },
          "metadata": {},
          "execution_count": 85
        }
      ]
    },
    {
      "cell_type": "code",
      "source": [
        "df1.Residence_type.value_counts()"
      ],
      "metadata": {
        "colab": {
          "base_uri": "https://localhost:8080/"
        },
        "id": "6x4gcJkRmcLA",
        "outputId": "8bc0fc70-a5d7-4c5c-88e1-4db98f5e350c"
      },
      "execution_count": null,
      "outputs": [
        {
          "output_type": "execute_result",
          "data": {
            "text/plain": [
              "Urban    21756\n",
              "Rural    21644\n",
              "Name: Residence_type, dtype: int64"
            ]
          },
          "metadata": {},
          "execution_count": 86
        }
      ]
    },
    {
      "cell_type": "code",
      "source": [
        "df1.smoking_status.value_counts()"
      ],
      "metadata": {
        "colab": {
          "base_uri": "https://localhost:8080/"
        },
        "id": "cCtQnVxzmf1r",
        "outputId": "ccb44ae9-79b8-43aa-9dc9-0335831cae6a"
      },
      "execution_count": null,
      "outputs": [
        {
          "output_type": "execute_result",
          "data": {
            "text/plain": [
              "never smoked       16053\n",
              "formerly smoked     7493\n",
              "smokes              6562\n",
              "Name: smoking_status, dtype: int64"
            ]
          },
          "metadata": {},
          "execution_count": 87
        }
      ]
    },
    {
      "cell_type": "markdown",
      "source": [
        "View target feature balance"
      ],
      "metadata": {
        "id": "qUmlk5hqoYs7"
      }
    },
    {
      "cell_type": "code",
      "source": [
        "df1['stroke'].value_counts().plot(kind='barh')"
      ],
      "metadata": {
        "colab": {
          "base_uri": "https://localhost:8080/",
          "height": 282
        },
        "id": "TbcK05bsoX9n",
        "outputId": "1512c4c1-eb44-46c2-b14f-d882f83dbc98"
      },
      "execution_count": null,
      "outputs": [
        {
          "output_type": "execute_result",
          "data": {
            "text/plain": [
              "<matplotlib.axes._subplots.AxesSubplot at 0x7fe96c381ad0>"
            ]
          },
          "metadata": {},
          "execution_count": 88
        },
        {
          "output_type": "display_data",
          "data": {
            "text/plain": [
              "<Figure size 432x288 with 1 Axes>"
            ],
            "image/png": "[encoded data removed]"
          },
          "metadata": {
            "needs_background": "light"
          }
        }
      ]
    },
    {
      "cell_type": "markdown",
      "source": [
        "The target column has to be upsampled to balance the data."
      ],
      "metadata": {
        "id": "rZxvixfpkKM_"
      }
    },
    {
      "cell_type": "markdown",
      "source": [
        "### Dataset 2"
      ],
      "metadata": {
        "id": "UpoDnfnBke3T"
      }
    },
    {
      "cell_type": "code",
      "source": [
        "df2.head()"
      ],
      "metadata": {
        "colab": {
          "base_uri": "https://localhost:8080/",
          "height": 287
        },
        "id": "9nHjFcGTkinu",
        "outputId": "47b551ce-f317-4564-a3cc-ba706b73f81b"
      },
      "execution_count": null,
      "outputs": [
        {
          "output_type": "execute_result",
          "data": {
            "text/plain": [
              "   Unnamed: 0  gender        age  hypertension  heart_disease ever_married  \\\n",
              "0           0  Female  46.558918             0              0          Yes   \n",
              "1           1    Male  72.260345             0              0          Yes   \n",
              "2           2    Male  15.017832             0              0           No   \n",
              "3           3  Female  19.782211             0              0           No   \n",
              "4           4    Male  52.642868             0              0          Yes   \n",
              "\n",
              "  work_type Residence_type  avg_glucose_level        bmi smoking_status  \\\n",
              "0   Private          Urban          61.469372  31.584820            NaN   \n",
              "1   Private          Rural          88.089638  25.384787   never smoked   \n",
              "2  children          Rural         178.221603  30.279047   never smoked   \n",
              "3   Private          Rural         216.142349  29.158499   never smoked   \n",
              "4   Private          Urban         178.901016  37.867107   never smoked   \n",
              "\n",
              "   stroke  \n",
              "0       0  \n",
              "1       0  \n",
              "2       0  \n",
              "3       0  \n",
              "4       0  "
            ],
            "text/html": [
              "\n",
              "  <div id=\"df-619f0dc5-1a7d-43d3-9170-152eb967d96c\">\n",
              "    <div class=\"colab-df-container\">\n",
              "      <div>\n",
              "<style scoped>\n",
              "    .dataframe tbody tr th:only-of-type {\n",
              "        vertical-align: middle;\n",
              "    }\n",
              "\n",
              "    .dataframe tbody tr th {\n",
              "        vertical-align: top;\n",
              "    }\n",
              "\n",
              "    .dataframe thead th {\n",
              "        text-align: right;\n",
              "    }\n",
              "</style>\n",
              "<table border=\"1\" class=\"dataframe\">\n",
              "  <thead>\n",
              "    <tr style=\"text-align: right;\">\n",
              "      <th></th>\n",
              "      <th>Unnamed: 0</th>\n",
              "      <th>gender</th>\n",
              "      <th>age</th>\n",
              "      <th>hypertension</th>\n",
              "      <th>heart_disease</th>\n",
              "      <th>ever_married</th>\n",
              "      <th>work_type</th>\n",
              "      <th>Residence_type</th>\n",
              "      <th>avg_glucose_level</th>\n",
              "      <th>bmi</th>\n",
              "      <th>smoking_status</th>\n",
              "      <th>stroke</th>\n",
              "    </tr>\n",
              "  </thead>\n",
              "  <tbody>\n",
              "    <tr>\n",
              "      <th>0</th>\n",
              "      <td>0</td>\n",
              "      <td>Female</td>\n",
              "      <td>46.558918</td>\n",
              "      <td>0</td>\n",
              "      <td>0</td>\n",
              "      <td>Yes</td>\n",
              "      <td>Private</td>\n",
              "      <td>Urban</td>\n",
              "      <td>61.469372</td>\n",
              "      <td>31.584820</td>\n",
              "      <td>NaN</td>\n",
              "      <td>0</td>\n",
              "    </tr>\n",
              "    <tr>\n",
              "      <th>1</th>\n",
              "      <td>1</td>\n",
              "      <td>Male</td>\n",
              "      <td>72.260345</td>\n",
              "      <td>0</td>\n",
              "      <td>0</td>\n",
              "      <td>Yes</td>\n",
              "      <td>Private</td>\n",
              "      <td>Rural</td>\n",
              "      <td>88.089638</td>\n",
              "      <td>25.384787</td>\n",
              "      <td>never smoked</td>\n",
              "      <td>0</td>\n",
              "    </tr>\n",
              "    <tr>\n",
              "      <th>2</th>\n",
              "      <td>2</td>\n",
              "      <td>Male</td>\n",
              "      <td>15.017832</td>\n",
              "      <td>0</td>\n",
              "      <td>0</td>\n",
              "      <td>No</td>\n",
              "      <td>children</td>\n",
              "      <td>Rural</td>\n",
              "      <td>178.221603</td>\n",
              "      <td>30.279047</td>\n",
              "      <td>never smoked</td>\n",
              "      <td>0</td>\n",
              "    </tr>\n",
              "    <tr>\n",
              "      <th>3</th>\n",
              "      <td>3</td>\n",
              "      <td>Female</td>\n",
              "      <td>19.782211</td>\n",
              "      <td>0</td>\n",
              "      <td>0</td>\n",
              "      <td>No</td>\n",
              "      <td>Private</td>\n",
              "      <td>Rural</td>\n",
              "      <td>216.142349</td>\n",
              "      <td>29.158499</td>\n",
              "      <td>never smoked</td>\n",
              "      <td>0</td>\n",
              "    </tr>\n",
              "    <tr>\n",
              "      <th>4</th>\n",
              "      <td>4</td>\n",
              "      <td>Male</td>\n",
              "      <td>52.642868</td>\n",
              "      <td>0</td>\n",
              "      <td>0</td>\n",
              "      <td>Yes</td>\n",
              "      <td>Private</td>\n",
              "      <td>Urban</td>\n",
              "      <td>178.901016</td>\n",
              "      <td>37.867107</td>\n",
              "      <td>never smoked</td>\n",
              "      <td>0</td>\n",
              "    </tr>\n",
              "  </tbody>\n",
              "</table>\n",
              "</div>\n",
              "      <button class=\"colab-df-convert\" onclick=\"convertToInteractive('df-619f0dc5-1a7d-43d3-9170-152eb967d96c')\"\n",
              "              title=\"Convert this dataframe to an interactive table.\"\n",
              "              style=\"display:none;\">\n",
              "        \n",
              "  <svg xmlns=\"http://www.w3.org/2000/svg\" height=\"24px\"viewBox=\"0 0 24 24\"\n",
              "       width=\"24px\">\n",
              "    <path d=\"M0 0h24v24H0V0z\" fill=\"none\"/>\n",
              "    <path d=\"M18.56 5.44l.94 2.06.94-2.06 2.06-.94-2.06-.94-.94-2.06-.94 2.06-2.06.94zm-11 1L8.5 8.5l.94-2.06 2.06-.94-2.06-.94L8.5 2.5l-.94 2.06-2.06.94zm10 10l.94 2.06.94-2.06 2.06-.94-2.06-.94-.94-2.06-.94 2.06-2.06.94z\"/><path d=\"M17.41 7.96l-1.37-1.37c-.4-.4-.92-.59-1.43-.59-.52 0-1.04.2-1.43.59L10.3 9.45l-7.72 7.72c-.78.78-.78 2.05 0 2.83L4 21.41c.39.39.9.59 1.41.59.51 0 1.02-.2 1.41-.59l7.78-7.78 2.81-2.81c.8-.78.8-2.07 0-2.86zM5.41 20L4 18.59l7.72-7.72 1.47 1.35L5.41 20z\"/>\n",
              "  </svg>\n",
              "      </button>\n",
              "      \n",
              "  <style>\n",
              "    .colab-df-container {\n",
              "      display:flex;\n",
              "      flex-wrap:wrap;\n",
              "      gap: 12px;\n",
              "    }\n",
              "\n",
              "    .colab-df-convert {\n",
              "      background-color: #E8F0FE;\n",
              "      border: none;\n",
              "      border-radius: 50%;\n",
              "      cursor: pointer;\n",
              "      display: none;\n",
              "      fill: #1967D2;\n",
              "      height: 32px;\n",
              "      padding: 0 0 0 0;\n",
              "      width: 32px;\n",
              "    }\n",
              "\n",
              "    .colab-df-convert:hover {\n",
              "      background-color: #E2EBFA;\n",
              "      box-shadow: 0px 1px 2px rgba(60, 64, 67, 0.3), 0px 1px 3px 1px rgba(60, 64, 67, 0.15);\n",
              "      fill: #174EA6;\n",
              "    }\n",
              "\n",
              "    [theme=dark] .colab-df-convert {\n",
              "      background-color: #3B4455;\n",
              "      fill: #D2E3FC;\n",
              "    }\n",
              "\n",
              "    [theme=dark] .colab-df-convert:hover {\n",
              "      background-color: #434B5C;\n",
              "      box-shadow: 0px 1px 3px 1px rgba(0, 0, 0, 0.15);\n",
              "      filter: drop-shadow(0px 1px 2px rgba(0, 0, 0, 0.3));\n",
              "      fill: #FFFFFF;\n",
              "    }\n",
              "  </style>\n",
              "\n",
              "      <script>\n",
              "        const buttonEl =\n",
              "          document.querySelector('#df-619f0dc5-1a7d-43d3-9170-152eb967d96c button.colab-df-convert');\n",
              "        buttonEl.style.display =\n",
              "          google.colab.kernel.accessAllowed ? 'block' : 'none';\n",
              "\n",
              "        async function convertToInteractive(key) {\n",
              "          const element = document.querySelector('#df-619f0dc5-1a7d-43d3-9170-152eb967d96c');\n",
              "          const dataTable =\n",
              "            await google.colab.kernel.invokeFunction('convertToInteractive',\n",
              "                                                     [key], {});\n",
              "          if (!dataTable) return;\n",
              "\n",
              "          const docLinkHtml = 'Like what you see? Visit the ' +\n",
              "            '<a target=\"_blank\" href=https://colab.research.google.com/notebooks/data_table.ipynb>data table notebook</a>'\n",
              "            + ' to learn more about interactive tables.';\n",
              "          element.innerHTML = '';\n",
              "          dataTable['output_type'] = 'display_data';\n",
              "          await google.colab.output.renderOutput(dataTable, element);\n",
              "          const docLink = document.createElement('div');\n",
              "          docLink.innerHTML = docLinkHtml;\n",
              "          element.appendChild(docLink);\n",
              "        }\n",
              "      </script>\n",
              "    </div>\n",
              "  </div>\n",
              "  "
            ]
          },
          "metadata": {},
          "execution_count": 89
        }
      ]
    },
    {
      "cell_type": "code",
      "source": [
        "df2.describe()"
      ],
      "metadata": {
        "colab": {
          "base_uri": "https://localhost:8080/",
          "height": 364
        },
        "id": "8cymV6KhnLrc",
        "outputId": "e2c16857-37a7-41be-88de-6c002962ba5d"
      },
      "execution_count": null,
      "outputs": [
        {
          "output_type": "execute_result",
          "data": {
            "text/plain": [
              "         Unnamed: 0           age  hypertension  heart_disease  \\\n",
              "count  43400.000000  43395.000000  43400.000000   43400.000000   \n",
              "mean   21699.500000     42.522152      0.088571       0.045668   \n",
              "std    12528.645178     21.370482      0.284127       0.208767   \n",
              "min        0.000000      1.865363      0.000000       0.000000   \n",
              "25%    10849.750000     25.906280      0.000000       0.000000   \n",
              "50%    21699.500000     44.070492      0.000000       0.000000   \n",
              "75%    32549.250000     59.408981      0.000000       0.000000   \n",
              "max    43399.000000     96.005936      1.000000       1.000000   \n",
              "\n",
              "       avg_glucose_level           bmi        stroke  \n",
              "count       43396.000000  42883.000000  43400.000000  \n",
              "mean          102.143888     29.002074      0.017696  \n",
              "std            38.423407      7.563389      0.131845  \n",
              "min            38.899124      9.566272      0.000000  \n",
              "25%            77.230145     23.873502      0.000000  \n",
              "50%            90.824245     28.175097      0.000000  \n",
              "75%           110.518177     33.175072      0.000000  \n",
              "max           328.130249     74.360596      1.000000  "
            ],
            "text/html": [
              "\n",
              "  <div id=\"df-4095e8ba-42ef-4aa6-89bf-a22e320d3801\">\n",
              "    <div class=\"colab-df-container\">\n",
              "      <div>\n",
              "<style scoped>\n",
              "    .dataframe tbody tr th:only-of-type {\n",
              "        vertical-align: middle;\n",
              "    }\n",
              "\n",
              "    .dataframe tbody tr th {\n",
              "        vertical-align: top;\n",
              "    }\n",
              "\n",
              "    .dataframe thead th {\n",
              "        text-align: right;\n",
              "    }\n",
              "</style>\n",
              "<table border=\"1\" class=\"dataframe\">\n",
              "  <thead>\n",
              "    <tr style=\"text-align: right;\">\n",
              "      <th></th>\n",
              "      <th>Unnamed: 0</th>\n",
              "      <th>age</th>\n",
              "      <th>hypertension</th>\n",
              "      <th>heart_disease</th>\n",
              "      <th>avg_glucose_level</th>\n",
              "      <th>bmi</th>\n",
              "      <th>stroke</th>\n",
              "    </tr>\n",
              "  </thead>\n",
              "  <tbody>\n",
              "    <tr>\n",
              "      <th>count</th>\n",
              "      <td>43400.000000</td>\n",
              "      <td>43395.000000</td>\n",
              "      <td>43400.000000</td>\n",
              "      <td>43400.000000</td>\n",
              "      <td>43396.000000</td>\n",
              "      <td>42883.000000</td>\n",
              "      <td>43400.000000</td>\n",
              "    </tr>\n",
              "    <tr>\n",
              "      <th>mean</th>\n",
              "      <td>21699.500000</td>\n",
              "      <td>42.522152</td>\n",
              "      <td>0.088571</td>\n",
              "      <td>0.045668</td>\n",
              "      <td>102.143888</td>\n",
              "      <td>29.002074</td>\n",
              "      <td>0.017696</td>\n",
              "    </tr>\n",
              "    <tr>\n",
              "      <th>std</th>\n",
              "      <td>12528.645178</td>\n",
              "      <td>21.370482</td>\n",
              "      <td>0.284127</td>\n",
              "      <td>0.208767</td>\n",
              "      <td>38.423407</td>\n",
              "      <td>7.563389</td>\n",
              "      <td>0.131845</td>\n",
              "    </tr>\n",
              "    <tr>\n",
              "      <th>min</th>\n",
              "      <td>0.000000</td>\n",
              "      <td>1.865363</td>\n",
              "      <td>0.000000</td>\n",
              "      <td>0.000000</td>\n",
              "      <td>38.899124</td>\n",
              "      <td>9.566272</td>\n",
              "      <td>0.000000</td>\n",
              "    </tr>\n",
              "    <tr>\n",
              "      <th>25%</th>\n",
              "      <td>10849.750000</td>\n",
              "      <td>25.906280</td>\n",
              "      <td>0.000000</td>\n",
              "      <td>0.000000</td>\n",
              "      <td>77.230145</td>\n",
              "      <td>23.873502</td>\n",
              "      <td>0.000000</td>\n",
              "    </tr>\n",
              "    <tr>\n",
              "      <th>50%</th>\n",
              "      <td>21699.500000</td>\n",
              "      <td>44.070492</td>\n",
              "      <td>0.000000</td>\n",
              "      <td>0.000000</td>\n",
              "      <td>90.824245</td>\n",
              "      <td>28.175097</td>\n",
              "      <td>0.000000</td>\n",
              "    </tr>\n",
              "    <tr>\n",
              "      <th>75%</th>\n",
              "      <td>32549.250000</td>\n",
              "      <td>59.408981</td>\n",
              "      <td>0.000000</td>\n",
              "      <td>0.000000</td>\n",
              "      <td>110.518177</td>\n",
              "      <td>33.175072</td>\n",
              "      <td>0.000000</td>\n",
              "    </tr>\n",
              "    <tr>\n",
              "      <th>max</th>\n",
              "      <td>43399.000000</td>\n",
              "      <td>96.005936</td>\n",
              "      <td>1.000000</td>\n",
              "      <td>1.000000</td>\n",
              "      <td>328.130249</td>\n",
              "      <td>74.360596</td>\n",
              "      <td>1.000000</td>\n",
              "    </tr>\n",
              "  </tbody>\n",
              "</table>\n",
              "</div>\n",
              "      <button class=\"colab-df-convert\" onclick=\"convertToInteractive('df-4095e8ba-42ef-4aa6-89bf-a22e320d3801')\"\n",
              "              title=\"Convert this dataframe to an interactive table.\"\n",
              "              style=\"display:none;\">\n",
              "        \n",
              "  <svg xmlns=\"http://www.w3.org/2000/svg\" height=\"24px\"viewBox=\"0 0 24 24\"\n",
              "       width=\"24px\">\n",
              "    <path d=\"M0 0h24v24H0V0z\" fill=\"none\"/>\n",
              "    <path d=\"M18.56 5.44l.94 2.06.94-2.06 2.06-.94-2.06-.94-.94-2.06-.94 2.06-2.06.94zm-11 1L8.5 8.5l.94-2.06 2.06-.94-2.06-.94L8.5 2.5l-.94 2.06-2.06.94zm10 10l.94 2.06.94-2.06 2.06-.94-2.06-.94-.94-2.06-.94 2.06-2.06.94z\"/><path d=\"M17.41 7.96l-1.37-1.37c-.4-.4-.92-.59-1.43-.59-.52 0-1.04.2-1.43.59L10.3 9.45l-7.72 7.72c-.78.78-.78 2.05 0 2.83L4 21.41c.39.39.9.59 1.41.59.51 0 1.02-.2 1.41-.59l7.78-7.78 2.81-2.81c.8-.78.8-2.07 0-2.86zM5.41 20L4 18.59l7.72-7.72 1.47 1.35L5.41 20z\"/>\n",
              "  </svg>\n",
              "      </button>\n",
              "      \n",
              "  <style>\n",
              "    .colab-df-container {\n",
              "      display:flex;\n",
              "      flex-wrap:wrap;\n",
              "      gap: 12px;\n",
              "    }\n",
              "\n",
              "    .colab-df-convert {\n",
              "      background-color: #E8F0FE;\n",
              "      border: none;\n",
              "      border-radius: 50%;\n",
              "      cursor: pointer;\n",
              "      display: none;\n",
              "      fill: #1967D2;\n",
              "      height: 32px;\n",
              "      padding: 0 0 0 0;\n",
              "      width: 32px;\n",
              "    }\n",
              "\n",
              "    .colab-df-convert:hover {\n",
              "      background-color: #E2EBFA;\n",
              "      box-shadow: 0px 1px 2px rgba(60, 64, 67, 0.3), 0px 1px 3px 1px rgba(60, 64, 67, 0.15);\n",
              "      fill: #174EA6;\n",
              "    }\n",
              "\n",
              "    [theme=dark] .colab-df-convert {\n",
              "      background-color: #3B4455;\n",
              "      fill: #D2E3FC;\n",
              "    }\n",
              "\n",
              "    [theme=dark] .colab-df-convert:hover {\n",
              "      background-color: #434B5C;\n",
              "      box-shadow: 0px 1px 3px 1px rgba(0, 0, 0, 0.15);\n",
              "      filter: drop-shadow(0px 1px 2px rgba(0, 0, 0, 0.3));\n",
              "      fill: #FFFFFF;\n",
              "    }\n",
              "  </style>\n",
              "\n",
              "      <script>\n",
              "        const buttonEl =\n",
              "          document.querySelector('#df-4095e8ba-42ef-4aa6-89bf-a22e320d3801 button.colab-df-convert');\n",
              "        buttonEl.style.display =\n",
              "          google.colab.kernel.accessAllowed ? 'block' : 'none';\n",
              "\n",
              "        async function convertToInteractive(key) {\n",
              "          const element = document.querySelector('#df-4095e8ba-42ef-4aa6-89bf-a22e320d3801');\n",
              "          const dataTable =\n",
              "            await google.colab.kernel.invokeFunction('convertToInteractive',\n",
              "                                                     [key], {});\n",
              "          if (!dataTable) return;\n",
              "\n",
              "          const docLinkHtml = 'Like what you see? Visit the ' +\n",
              "            '<a target=\"_blank\" href=https://colab.research.google.com/notebooks/data_table.ipynb>data table notebook</a>'\n",
              "            + ' to learn more about interactive tables.';\n",
              "          element.innerHTML = '';\n",
              "          dataTable['output_type'] = 'display_data';\n",
              "          await google.colab.output.renderOutput(dataTable, element);\n",
              "          const docLink = document.createElement('div');\n",
              "          docLink.innerHTML = docLinkHtml;\n",
              "          element.appendChild(docLink);\n",
              "        }\n",
              "      </script>\n",
              "    </div>\n",
              "  </div>\n",
              "  "
            ]
          },
          "metadata": {},
          "execution_count": 90
        }
      ]
    },
    {
      "cell_type": "markdown",
      "source": [
        "View columns with null values"
      ],
      "metadata": {
        "id": "uYxglBM8nLrc"
      }
    },
    {
      "cell_type": "code",
      "source": [
        "df2.isnull().sum()"
      ],
      "metadata": {
        "colab": {
          "base_uri": "https://localhost:8080/"
        },
        "id": "3W0cBWpgnLrd",
        "outputId": "a68a255f-fc71-4d39-b0bb-6357d2c8ce3e"
      },
      "execution_count": null,
      "outputs": [
        {
          "output_type": "execute_result",
          "data": {
            "text/plain": [
              "Unnamed: 0               0\n",
              "gender                   0\n",
              "age                      5\n",
              "hypertension             0\n",
              "heart_disease            0\n",
              "ever_married             0\n",
              "work_type                0\n",
              "Residence_type           0\n",
              "avg_glucose_level        4\n",
              "bmi                    517\n",
              "smoking_status       13174\n",
              "stroke                   0\n",
              "dtype: int64"
            ]
          },
          "metadata": {},
          "execution_count": 91
        }
      ]
    },
    {
      "cell_type": "markdown",
      "source": [
        "- We can fill the age, bmi and avg_glucose_level column using their corresponding mean\n",
        "- We can fill the smoking_status column using:\n",
        "  - the age column\n",
        "  - an Xgboost model"
      ],
      "metadata": {
        "id": "8cFMzE9QlBg8"
      }
    },
    {
      "cell_type": "markdown",
      "source": [
        "**Columns with categorical values**\n",
        "\n",
        "These feature columns have to be transformed to numerical columns"
      ],
      "metadata": {
        "id": "WWTujbDXlBg-"
      }
    },
    {
      "cell_type": "code",
      "source": [
        "df2.gender.value_counts()"
      ],
      "metadata": {
        "colab": {
          "base_uri": "https://localhost:8080/"
        },
        "id": "m0O4nekJnLrd",
        "outputId": "0485c6a7-a3ac-4dbe-b563-d540c52b843b"
      },
      "execution_count": null,
      "outputs": [
        {
          "output_type": "execute_result",
          "data": {
            "text/plain": [
              "Female    26100\n",
              "Male      17272\n",
              "Other        28\n",
              "Name: gender, dtype: int64"
            ]
          },
          "metadata": {},
          "execution_count": 92
        }
      ]
    },
    {
      "cell_type": "code",
      "source": [
        "df2.ever_married.value_counts()"
      ],
      "metadata": {
        "colab": {
          "base_uri": "https://localhost:8080/"
        },
        "id": "MLGO_jACnLrd",
        "outputId": "c41f9fdd-4173-4982-b746-14b3e39cd02e"
      },
      "execution_count": null,
      "outputs": [
        {
          "output_type": "execute_result",
          "data": {
            "text/plain": [
              "Yes    27999\n",
              "No     15401\n",
              "Name: ever_married, dtype: int64"
            ]
          },
          "metadata": {},
          "execution_count": 93
        }
      ]
    },
    {
      "cell_type": "code",
      "source": [
        "df2.work_type.value_counts()"
      ],
      "metadata": {
        "colab": {
          "base_uri": "https://localhost:8080/"
        },
        "id": "mAYH8XgvnLre",
        "outputId": "77a751a6-68c3-4a09-f5e1-b9de4e7aefc6"
      },
      "execution_count": null,
      "outputs": [
        {
          "output_type": "execute_result",
          "data": {
            "text/plain": [
              "Private          25273\n",
              "Self-employed     6999\n",
              "children          5896\n",
              "Govt_job          5041\n",
              "Never_worked       191\n",
              "Name: work_type, dtype: int64"
            ]
          },
          "metadata": {},
          "execution_count": 94
        }
      ]
    },
    {
      "cell_type": "code",
      "source": [
        "df2.Residence_type.value_counts()"
      ],
      "metadata": {
        "colab": {
          "base_uri": "https://localhost:8080/"
        },
        "id": "lbqQpe5YnLre",
        "outputId": "89dcce56-116c-41ec-c912-3e00b8815c66"
      },
      "execution_count": null,
      "outputs": [
        {
          "output_type": "execute_result",
          "data": {
            "text/plain": [
              "Urban    21844\n",
              "Rural    21556\n",
              "Name: Residence_type, dtype: int64"
            ]
          },
          "metadata": {},
          "execution_count": 95
        }
      ]
    },
    {
      "cell_type": "code",
      "source": [
        "df2.smoking_status.value_counts()"
      ],
      "metadata": {
        "colab": {
          "base_uri": "https://localhost:8080/"
        },
        "id": "Sqkbdc94nLre",
        "outputId": "34174b70-131c-4469-b000-5ffbe550ec54"
      },
      "execution_count": null,
      "outputs": [
        {
          "output_type": "execute_result",
          "data": {
            "text/plain": [
              "never smoked       16286\n",
              "formerly smoked     7252\n",
              "smokes              6688\n",
              "Name: smoking_status, dtype: int64"
            ]
          },
          "metadata": {},
          "execution_count": 96
        }
      ]
    },
    {
      "cell_type": "markdown",
      "source": [
        "View target feature balance"
      ],
      "metadata": {
        "id": "N-4scCeEowlc"
      }
    },
    {
      "cell_type": "code",
      "source": [
        "df2['stroke'].value_counts().plot(kind='barh')"
      ],
      "metadata": {
        "colab": {
          "base_uri": "https://localhost:8080/",
          "height": 282
        },
        "outputId": "1e364a9d-50d4-45dc-93e3-e57897f5c5df",
        "id": "y7zqnrb7owle"
      },
      "execution_count": null,
      "outputs": [
        {
          "output_type": "execute_result",
          "data": {
            "text/plain": [
              "<matplotlib.axes._subplots.AxesSubplot at 0x7fe96cbe06d0>"
            ]
          },
          "metadata": {},
          "execution_count": 97
        },
        {
          "output_type": "display_data",
          "data": {
            "text/plain": [
              "<Figure size 432x288 with 1 Axes>"
            ],
            "image/png": "[encoded data removed]"
          },
          "metadata": {
            "needs_background": "light"
          }
        }
      ]
    },
    {
      "cell_type": "markdown",
      "source": [
        "### Dataset 3"
      ],
      "metadata": {
        "id": "1lLteTp0lNgH"
      }
    },
    {
      "cell_type": "code",
      "source": [
        "df3.head()"
      ],
      "metadata": {
        "colab": {
          "base_uri": "https://localhost:8080/",
          "height": 322
        },
        "id": "6Tel3-1_kjgZ",
        "outputId": "c40c22a5-0347-4bf4-ab01-77549f7deb0f"
      },
      "execution_count": null,
      "outputs": [
        {
          "output_type": "execute_result",
          "data": {
            "text/plain": [
              "   Unnamed: 0  gender        age  hypertension  heart_disease ever_married  \\\n",
              "0           0    Male  39.230114             0              0           No   \n",
              "1           1  Female  46.884335             0              0           No   \n",
              "2           2  Female  58.254971             1              0          Yes   \n",
              "3           3    Male   8.297491             0              0           No   \n",
              "4           4    Male  23.581894             0              0           No   \n",
              "\n",
              "       work_type Residence_type  avg_glucose_level        bmi smoking_status  \\\n",
              "0        Private          Urban          81.494720  22.602545         smokes   \n",
              "1  Self-employed          Rural         133.478119  40.833950   never smoked   \n",
              "2  Self-employed          Urban         123.809082  33.464554   never smoked   \n",
              "3       children          Rural         102.157021  23.413242            NaN   \n",
              "4        Private          Urban          82.137550  22.303869            NaN   \n",
              "\n",
              "   stroke  \n",
              "0       0  \n",
              "1       0  \n",
              "2       0  \n",
              "3       0  \n",
              "4       0  "
            ],
            "text/html": [
              "\n",
              "  <div id=\"df-78219bc0-6cd0-4f5c-9306-d41c0e3a2e89\">\n",
              "    <div class=\"colab-df-container\">\n",
              "      <div>\n",
              "<style scoped>\n",
              "    .dataframe tbody tr th:only-of-type {\n",
              "        vertical-align: middle;\n",
              "    }\n",
              "\n",
              "    .dataframe tbody tr th {\n",
              "        vertical-align: top;\n",
              "    }\n",
              "\n",
              "    .dataframe thead th {\n",
              "        text-align: right;\n",
              "    }\n",
              "</style>\n",
              "<table border=\"1\" class=\"dataframe\">\n",
              "  <thead>\n",
              "    <tr style=\"text-align: right;\">\n",
              "      <th></th>\n",
              "      <th>Unnamed: 0</th>\n",
              "      <th>gender</th>\n",
              "      <th>age</th>\n",
              "      <th>hypertension</th>\n",
              "      <th>heart_disease</th>\n",
              "      <th>ever_married</th>\n",
              "      <th>work_type</th>\n",
              "      <th>Residence_type</th>\n",
              "      <th>avg_glucose_level</th>\n",
              "      <th>bmi</th>\n",
              "      <th>smoking_status</th>\n",
              "      <th>stroke</th>\n",
              "    </tr>\n",
              "  </thead>\n",
              "  <tbody>\n",
              "    <tr>\n",
              "      <th>0</th>\n",
              "      <td>0</td>\n",
              "      <td>Male</td>\n",
              "      <td>39.230114</td>\n",
              "      <td>0</td>\n",
              "      <td>0</td>\n",
              "      <td>No</td>\n",
              "      <td>Private</td>\n",
              "      <td>Urban</td>\n",
              "      <td>81.494720</td>\n",
              "      <td>22.602545</td>\n",
              "      <td>smokes</td>\n",
              "      <td>0</td>\n",
              "    </tr>\n",
              "    <tr>\n",
              "      <th>1</th>\n",
              "      <td>1</td>\n",
              "      <td>Female</td>\n",
              "      <td>46.884335</td>\n",
              "      <td>0</td>\n",
              "      <td>0</td>\n",
              "      <td>No</td>\n",
              "      <td>Self-employed</td>\n",
              "      <td>Rural</td>\n",
              "      <td>133.478119</td>\n",
              "      <td>40.833950</td>\n",
              "      <td>never smoked</td>\n",
              "      <td>0</td>\n",
              "    </tr>\n",
              "    <tr>\n",
              "      <th>2</th>\n",
              "      <td>2</td>\n",
              "      <td>Female</td>\n",
              "      <td>58.254971</td>\n",
              "      <td>1</td>\n",
              "      <td>0</td>\n",
              "      <td>Yes</td>\n",
              "      <td>Self-employed</td>\n",
              "      <td>Urban</td>\n",
              "      <td>123.809082</td>\n",
              "      <td>33.464554</td>\n",
              "      <td>never smoked</td>\n",
              "      <td>0</td>\n",
              "    </tr>\n",
              "    <tr>\n",
              "      <th>3</th>\n",
              "      <td>3</td>\n",
              "      <td>Male</td>\n",
              "      <td>8.297491</td>\n",
              "      <td>0</td>\n",
              "      <td>0</td>\n",
              "      <td>No</td>\n",
              "      <td>children</td>\n",
              "      <td>Rural</td>\n",
              "      <td>102.157021</td>\n",
              "      <td>23.413242</td>\n",
              "      <td>NaN</td>\n",
              "      <td>0</td>\n",
              "    </tr>\n",
              "    <tr>\n",
              "      <th>4</th>\n",
              "      <td>4</td>\n",
              "      <td>Male</td>\n",
              "      <td>23.581894</td>\n",
              "      <td>0</td>\n",
              "      <td>0</td>\n",
              "      <td>No</td>\n",
              "      <td>Private</td>\n",
              "      <td>Urban</td>\n",
              "      <td>82.137550</td>\n",
              "      <td>22.303869</td>\n",
              "      <td>NaN</td>\n",
              "      <td>0</td>\n",
              "    </tr>\n",
              "  </tbody>\n",
              "</table>\n",
              "</div>\n",
              "      <button class=\"colab-df-convert\" onclick=\"convertToInteractive('df-78219bc0-6cd0-4f5c-9306-d41c0e3a2e89')\"\n",
              "              title=\"Convert this dataframe to an interactive table.\"\n",
              "              style=\"display:none;\">\n",
              "        \n",
              "  <svg xmlns=\"http://www.w3.org/2000/svg\" height=\"24px\"viewBox=\"0 0 24 24\"\n",
              "       width=\"24px\">\n",
              "    <path d=\"M0 0h24v24H0V0z\" fill=\"none\"/>\n",
              "    <path d=\"M18.56 5.44l.94 2.06.94-2.06 2.06-.94-2.06-.94-.94-2.06-.94 2.06-2.06.94zm-11 1L8.5 8.5l.94-2.06 2.06-.94-2.06-.94L8.5 2.5l-.94 2.06-2.06.94zm10 10l.94 2.06.94-2.06 2.06-.94-2.06-.94-.94-2.06-.94 2.06-2.06.94z\"/><path d=\"M17.41 7.96l-1.37-1.37c-.4-.4-.92-.59-1.43-.59-.52 0-1.04.2-1.43.59L10.3 9.45l-7.72 7.72c-.78.78-.78 2.05 0 2.83L4 21.41c.39.39.9.59 1.41.59.51 0 1.02-.2 1.41-.59l7.78-7.78 2.81-2.81c.8-.78.8-2.07 0-2.86zM5.41 20L4 18.59l7.72-7.72 1.47 1.35L5.41 20z\"/>\n",
              "  </svg>\n",
              "      </button>\n",
              "      \n",
              "  <style>\n",
              "    .colab-df-container {\n",
              "      display:flex;\n",
              "      flex-wrap:wrap;\n",
              "      gap: 12px;\n",
              "    }\n",
              "\n",
              "    .colab-df-convert {\n",
              "      background-color: #E8F0FE;\n",
              "      border: none;\n",
              "      border-radius: 50%;\n",
              "      cursor: pointer;\n",
              "      display: none;\n",
              "      fill: #1967D2;\n",
              "      height: 32px;\n",
              "      padding: 0 0 0 0;\n",
              "      width: 32px;\n",
              "    }\n",
              "\n",
              "    .colab-df-convert:hover {\n",
              "      background-color: #E2EBFA;\n",
              "      box-shadow: 0px 1px 2px rgba(60, 64, 67, 0.3), 0px 1px 3px 1px rgba(60, 64, 67, 0.15);\n",
              "      fill: #174EA6;\n",
              "    }\n",
              "\n",
              "    [theme=dark] .colab-df-convert {\n",
              "      background-color: #3B4455;\n",
              "      fill: #D2E3FC;\n",
              "    }\n",
              "\n",
              "    [theme=dark] .colab-df-convert:hover {\n",
              "      background-color: #434B5C;\n",
              "      box-shadow: 0px 1px 3px 1px rgba(0, 0, 0, 0.15);\n",
              "      filter: drop-shadow(0px 1px 2px rgba(0, 0, 0, 0.3));\n",
              "      fill: #FFFFFF;\n",
              "    }\n",
              "  </style>\n",
              "\n",
              "      <script>\n",
              "        const buttonEl =\n",
              "          document.querySelector('#df-78219bc0-6cd0-4f5c-9306-d41c0e3a2e89 button.colab-df-convert');\n",
              "        buttonEl.style.display =\n",
              "          google.colab.kernel.accessAllowed ? 'block' : 'none';\n",
              "\n",
              "        async function convertToInteractive(key) {\n",
              "          const element = document.querySelector('#df-78219bc0-6cd0-4f5c-9306-d41c0e3a2e89');\n",
              "          const dataTable =\n",
              "            await google.colab.kernel.invokeFunction('convertToInteractive',\n",
              "                                                     [key], {});\n",
              "          if (!dataTable) return;\n",
              "\n",
              "          const docLinkHtml = 'Like what you see? Visit the ' +\n",
              "            '<a target=\"_blank\" href=https://colab.research.google.com/notebooks/data_table.ipynb>data table notebook</a>'\n",
              "            + ' to learn more about interactive tables.';\n",
              "          element.innerHTML = '';\n",
              "          dataTable['output_type'] = 'display_data';\n",
              "          await google.colab.output.renderOutput(dataTable, element);\n",
              "          const docLink = document.createElement('div');\n",
              "          docLink.innerHTML = docLinkHtml;\n",
              "          element.appendChild(docLink);\n",
              "        }\n",
              "      </script>\n",
              "    </div>\n",
              "  </div>\n",
              "  "
            ]
          },
          "metadata": {},
          "execution_count": 98
        }
      ]
    },
    {
      "cell_type": "code",
      "source": [
        "df3.describe()"
      ],
      "metadata": {
        "colab": {
          "base_uri": "https://localhost:8080/",
          "height": 364
        },
        "id": "sEag2R5gnM_n",
        "outputId": "0d79b0fd-2c66-4cd4-e80e-ee8b8c8ccb6c"
      },
      "execution_count": null,
      "outputs": [
        {
          "output_type": "execute_result",
          "data": {
            "text/plain": [
              "         Unnamed: 0           age  hypertension  heart_disease  \\\n",
              "count  43400.000000  43390.000000  43400.000000   43400.000000   \n",
              "mean   21699.500000     41.131919      0.063203       0.027097   \n",
              "std    12528.645178     21.480514      0.243330       0.162367   \n",
              "min        0.000000      3.231856      0.000000       0.000000   \n",
              "25%    10849.750000     24.473059      0.000000       0.000000   \n",
              "50%    21699.500000     42.494968      0.000000       0.000000   \n",
              "75%    32549.250000     57.881371      0.000000       0.000000   \n",
              "max    43399.000000     92.229919      1.000000       1.000000   \n",
              "\n",
              "       avg_glucose_level           bmi        stroke  \n",
              "count       43396.000000  42671.000000  43400.000000  \n",
              "mean          103.082300     29.059823      0.019147  \n",
              "std            36.765133      7.924456      0.137045  \n",
              "min            31.510170     11.012136      0.000000  \n",
              "25%            79.004898     23.681385      0.000000  \n",
              "50%            93.291176     28.064131      0.000000  \n",
              "75%           113.887991     33.272034      0.000000  \n",
              "max           336.990601     78.784599      1.000000  "
            ],
            "text/html": [
              "\n",
              "  <div id=\"df-4bb6aa13-7112-4e8b-8312-344bd37b5a22\">\n",
              "    <div class=\"colab-df-container\">\n",
              "      <div>\n",
              "<style scoped>\n",
              "    .dataframe tbody tr th:only-of-type {\n",
              "        vertical-align: middle;\n",
              "    }\n",
              "\n",
              "    .dataframe tbody tr th {\n",
              "        vertical-align: top;\n",
              "    }\n",
              "\n",
              "    .dataframe thead th {\n",
              "        text-align: right;\n",
              "    }\n",
              "</style>\n",
              "<table border=\"1\" class=\"dataframe\">\n",
              "  <thead>\n",
              "    <tr style=\"text-align: right;\">\n",
              "      <th></th>\n",
              "      <th>Unnamed: 0</th>\n",
              "      <th>age</th>\n",
              "      <th>hypertension</th>\n",
              "      <th>heart_disease</th>\n",
              "      <th>avg_glucose_level</th>\n",
              "      <th>bmi</th>\n",
              "      <th>stroke</th>\n",
              "    </tr>\n",
              "  </thead>\n",
              "  <tbody>\n",
              "    <tr>\n",
              "      <th>count</th>\n",
              "      <td>43400.000000</td>\n",
              "      <td>43390.000000</td>\n",
              "      <td>43400.000000</td>\n",
              "      <td>43400.000000</td>\n",
              "      <td>43396.000000</td>\n",
              "      <td>42671.000000</td>\n",
              "      <td>43400.000000</td>\n",
              "    </tr>\n",
              "    <tr>\n",
              "      <th>mean</th>\n",
              "      <td>21699.500000</td>\n",
              "      <td>41.131919</td>\n",
              "      <td>0.063203</td>\n",
              "      <td>0.027097</td>\n",
              "      <td>103.082300</td>\n",
              "      <td>29.059823</td>\n",
              "      <td>0.019147</td>\n",
              "    </tr>\n",
              "    <tr>\n",
              "      <th>std</th>\n",
              "      <td>12528.645178</td>\n",
              "      <td>21.480514</td>\n",
              "      <td>0.243330</td>\n",
              "      <td>0.162367</td>\n",
              "      <td>36.765133</td>\n",
              "      <td>7.924456</td>\n",
              "      <td>0.137045</td>\n",
              "    </tr>\n",
              "    <tr>\n",
              "      <th>min</th>\n",
              "      <td>0.000000</td>\n",
              "      <td>3.231856</td>\n",
              "      <td>0.000000</td>\n",
              "      <td>0.000000</td>\n",
              "      <td>31.510170</td>\n",
              "      <td>11.012136</td>\n",
              "      <td>0.000000</td>\n",
              "    </tr>\n",
              "    <tr>\n",
              "      <th>25%</th>\n",
              "      <td>10849.750000</td>\n",
              "      <td>24.473059</td>\n",
              "      <td>0.000000</td>\n",
              "      <td>0.000000</td>\n",
              "      <td>79.004898</td>\n",
              "      <td>23.681385</td>\n",
              "      <td>0.000000</td>\n",
              "    </tr>\n",
              "    <tr>\n",
              "      <th>50%</th>\n",
              "      <td>21699.500000</td>\n",
              "      <td>42.494968</td>\n",
              "      <td>0.000000</td>\n",
              "      <td>0.000000</td>\n",
              "      <td>93.291176</td>\n",
              "      <td>28.064131</td>\n",
              "      <td>0.000000</td>\n",
              "    </tr>\n",
              "    <tr>\n",
              "      <th>75%</th>\n",
              "      <td>32549.250000</td>\n",
              "      <td>57.881371</td>\n",
              "      <td>0.000000</td>\n",
              "      <td>0.000000</td>\n",
              "      <td>113.887991</td>\n",
              "      <td>33.272034</td>\n",
              "      <td>0.000000</td>\n",
              "    </tr>\n",
              "    <tr>\n",
              "      <th>max</th>\n",
              "      <td>43399.000000</td>\n",
              "      <td>92.229919</td>\n",
              "      <td>1.000000</td>\n",
              "      <td>1.000000</td>\n",
              "      <td>336.990601</td>\n",
              "      <td>78.784599</td>\n",
              "      <td>1.000000</td>\n",
              "    </tr>\n",
              "  </tbody>\n",
              "</table>\n",
              "</div>\n",
              "      <button class=\"colab-df-convert\" onclick=\"convertToInteractive('df-4bb6aa13-7112-4e8b-8312-344bd37b5a22')\"\n",
              "              title=\"Convert this dataframe to an interactive table.\"\n",
              "              style=\"display:none;\">\n",
              "        \n",
              "  <svg xmlns=\"http://www.w3.org/2000/svg\" height=\"24px\"viewBox=\"0 0 24 24\"\n",
              "       width=\"24px\">\n",
              "    <path d=\"M0 0h24v24H0V0z\" fill=\"none\"/>\n",
              "    <path d=\"M18.56 5.44l.94 2.06.94-2.06 2.06-.94-2.06-.94-.94-2.06-.94 2.06-2.06.94zm-11 1L8.5 8.5l.94-2.06 2.06-.94-2.06-.94L8.5 2.5l-.94 2.06-2.06.94zm10 10l.94 2.06.94-2.06 2.06-.94-2.06-.94-.94-2.06-.94 2.06-2.06.94z\"/><path d=\"M17.41 7.96l-1.37-1.37c-.4-.4-.92-.59-1.43-.59-.52 0-1.04.2-1.43.59L10.3 9.45l-7.72 7.72c-.78.78-.78 2.05 0 2.83L4 21.41c.39.39.9.59 1.41.59.51 0 1.02-.2 1.41-.59l7.78-7.78 2.81-2.81c.8-.78.8-2.07 0-2.86zM5.41 20L4 18.59l7.72-7.72 1.47 1.35L5.41 20z\"/>\n",
              "  </svg>\n",
              "      </button>\n",
              "      \n",
              "  <style>\n",
              "    .colab-df-container {\n",
              "      display:flex;\n",
              "      flex-wrap:wrap;\n",
              "      gap: 12px;\n",
              "    }\n",
              "\n",
              "    .colab-df-convert {\n",
              "      background-color: #E8F0FE;\n",
              "      border: none;\n",
              "      border-radius: 50%;\n",
              "      cursor: pointer;\n",
              "      display: none;\n",
              "      fill: #1967D2;\n",
              "      height: 32px;\n",
              "      padding: 0 0 0 0;\n",
              "      width: 32px;\n",
              "    }\n",
              "\n",
              "    .colab-df-convert:hover {\n",
              "      background-color: #E2EBFA;\n",
              "      box-shadow: 0px 1px 2px rgba(60, 64, 67, 0.3), 0px 1px 3px 1px rgba(60, 64, 67, 0.15);\n",
              "      fill: #174EA6;\n",
              "    }\n",
              "\n",
              "    [theme=dark] .colab-df-convert {\n",
              "      background-color: #3B4455;\n",
              "      fill: #D2E3FC;\n",
              "    }\n",
              "\n",
              "    [theme=dark] .colab-df-convert:hover {\n",
              "      background-color: #434B5C;\n",
              "      box-shadow: 0px 1px 3px 1px rgba(0, 0, 0, 0.15);\n",
              "      filter: drop-shadow(0px 1px 2px rgba(0, 0, 0, 0.3));\n",
              "      fill: #FFFFFF;\n",
              "    }\n",
              "  </style>\n",
              "\n",
              "      <script>\n",
              "        const buttonEl =\n",
              "          document.querySelector('#df-4bb6aa13-7112-4e8b-8312-344bd37b5a22 button.colab-df-convert');\n",
              "        buttonEl.style.display =\n",
              "          google.colab.kernel.accessAllowed ? 'block' : 'none';\n",
              "\n",
              "        async function convertToInteractive(key) {\n",
              "          const element = document.querySelector('#df-4bb6aa13-7112-4e8b-8312-344bd37b5a22');\n",
              "          const dataTable =\n",
              "            await google.colab.kernel.invokeFunction('convertToInteractive',\n",
              "                                                     [key], {});\n",
              "          if (!dataTable) return;\n",
              "\n",
              "          const docLinkHtml = 'Like what you see? Visit the ' +\n",
              "            '<a target=\"_blank\" href=https://colab.research.google.com/notebooks/data_table.ipynb>data table notebook</a>'\n",
              "            + ' to learn more about interactive tables.';\n",
              "          element.innerHTML = '';\n",
              "          dataTable['output_type'] = 'display_data';\n",
              "          await google.colab.output.renderOutput(dataTable, element);\n",
              "          const docLink = document.createElement('div');\n",
              "          docLink.innerHTML = docLinkHtml;\n",
              "          element.appendChild(docLink);\n",
              "        }\n",
              "      </script>\n",
              "    </div>\n",
              "  </div>\n",
              "  "
            ]
          },
          "metadata": {},
          "execution_count": 99
        }
      ]
    },
    {
      "cell_type": "markdown",
      "source": [
        "View columns with null values"
      ],
      "metadata": {
        "id": "Va1USK1hnM_o"
      }
    },
    {
      "cell_type": "code",
      "source": [
        "df3.isnull().sum()"
      ],
      "metadata": {
        "colab": {
          "base_uri": "https://localhost:8080/"
        },
        "id": "hDTH3pgcnM_o",
        "outputId": "670d269c-070d-4f1b-ab17-ed865abfd171"
      },
      "execution_count": null,
      "outputs": [
        {
          "output_type": "execute_result",
          "data": {
            "text/plain": [
              "Unnamed: 0               0\n",
              "gender                   0\n",
              "age                     10\n",
              "hypertension             0\n",
              "heart_disease            0\n",
              "ever_married             0\n",
              "work_type                0\n",
              "Residence_type           0\n",
              "avg_glucose_level        4\n",
              "bmi                    729\n",
              "smoking_status       13140\n",
              "stroke                   0\n",
              "dtype: int64"
            ]
          },
          "metadata": {},
          "execution_count": 100
        }
      ]
    },
    {
      "cell_type": "markdown",
      "source": [
        "- We can fill the age, bmi and avg_glucose_level column using their corresponding mean\n",
        "- We can fill the smoking_status column using:\n",
        "  - the age column\n",
        "  - an Xgboost model"
      ],
      "metadata": {
        "id": "AIODfp9JlRD4"
      }
    },
    {
      "cell_type": "markdown",
      "source": [
        "**Columns with categorical values**\n",
        "\n",
        "These feature columns have to be transformed to numerical columns"
      ],
      "metadata": {
        "id": "xxWZACbClRD4"
      }
    },
    {
      "cell_type": "code",
      "source": [
        "df3.gender.value_counts()"
      ],
      "metadata": {
        "colab": {
          "base_uri": "https://localhost:8080/"
        },
        "id": "TB8N84nFnM_p",
        "outputId": "c252bd25-7c84-4c24-cd59-5d8874765090"
      },
      "execution_count": null,
      "outputs": [
        {
          "output_type": "execute_result",
          "data": {
            "text/plain": [
              "Female    25939\n",
              "Male      17459\n",
              "Other         2\n",
              "Name: gender, dtype: int64"
            ]
          },
          "metadata": {},
          "execution_count": 101
        }
      ]
    },
    {
      "cell_type": "code",
      "source": [
        "df3.ever_married.value_counts()"
      ],
      "metadata": {
        "colab": {
          "base_uri": "https://localhost:8080/"
        },
        "id": "sQ18jLEVnM_q",
        "outputId": "cd49a776-b64c-4676-b3e7-1bbd015d83fd"
      },
      "execution_count": null,
      "outputs": [
        {
          "output_type": "execute_result",
          "data": {
            "text/plain": [
              "Yes    27671\n",
              "No     15729\n",
              "Name: ever_married, dtype: int64"
            ]
          },
          "metadata": {},
          "execution_count": 102
        }
      ]
    },
    {
      "cell_type": "code",
      "source": [
        "df3.work_type.value_counts()"
      ],
      "metadata": {
        "colab": {
          "base_uri": "https://localhost:8080/"
        },
        "id": "UFiDCoIOnM_q",
        "outputId": "ec7110d2-ff0d-467b-cd49-9da586e12390"
      },
      "execution_count": null,
      "outputs": [
        {
          "output_type": "execute_result",
          "data": {
            "text/plain": [
              "Private          29275\n",
              "children          7246\n",
              "Govt_job          3398\n",
              "Self-employed     3368\n",
              "Never_worked       113\n",
              "Name: work_type, dtype: int64"
            ]
          },
          "metadata": {},
          "execution_count": 103
        }
      ]
    },
    {
      "cell_type": "code",
      "source": [
        "df3.Residence_type.value_counts()"
      ],
      "metadata": {
        "colab": {
          "base_uri": "https://localhost:8080/"
        },
        "id": "umgmXmupnM_r",
        "outputId": "d6e933d2-aa54-4135-d0c7-6a8afd3e5a08"
      },
      "execution_count": null,
      "outputs": [
        {
          "output_type": "execute_result",
          "data": {
            "text/plain": [
              "Urban    21902\n",
              "Rural    21498\n",
              "Name: Residence_type, dtype: int64"
            ]
          },
          "metadata": {},
          "execution_count": 104
        }
      ]
    },
    {
      "cell_type": "code",
      "source": [
        "df3.smoking_status.value_counts()"
      ],
      "metadata": {
        "colab": {
          "base_uri": "https://localhost:8080/"
        },
        "id": "TwbWHNDqnM_r",
        "outputId": "5c4ce58c-7088-43e8-b606-089cf177dd85"
      },
      "execution_count": null,
      "outputs": [
        {
          "output_type": "execute_result",
          "data": {
            "text/plain": [
              "never smoked       16624\n",
              "formerly smoked     7138\n",
              "smokes              6498\n",
              "Name: smoking_status, dtype: int64"
            ]
          },
          "metadata": {},
          "execution_count": 105
        }
      ]
    },
    {
      "cell_type": "markdown",
      "source": [
        "View target feature balance"
      ],
      "metadata": {
        "id": "Qh_CGxRLo16m"
      }
    },
    {
      "cell_type": "code",
      "source": [
        "df3['stroke'].value_counts().plot(kind='barh')"
      ],
      "metadata": {
        "colab": {
          "base_uri": "https://localhost:8080/",
          "height": 282
        },
        "outputId": "eb9cba3b-2108-435b-b192-e67dae1beb3c",
        "id": "G78P5smLo16m"
      },
      "execution_count": null,
      "outputs": [
        {
          "output_type": "execute_result",
          "data": {
            "text/plain": [
              "<matplotlib.axes._subplots.AxesSubplot at 0x7fe96c307750>"
            ]
          },
          "metadata": {},
          "execution_count": 106
        },
        {
          "output_type": "display_data",
          "data": {
            "text/plain": [
              "<Figure size 432x288 with 1 Axes>"
            ],
            "image/png": "[encoded data removed]"
          },
          "metadata": {
            "needs_background": "light"
          }
        }
      ]
    },
    {
      "cell_type": "markdown",
      "source": [
        "## Utility functions and classes"
      ],
      "metadata": {
        "id": "CdkHk60wW_xQ"
      }
    },
    {
      "cell_type": "markdown",
      "source": [
        "### EDA"
      ],
      "metadata": {
        "id": "T02tWSZYRg3j"
      }
    },
    {
      "cell_type": "markdown",
      "source": [
        "Load and read dataset using Pandas"
      ],
      "metadata": {
        "id": "y0zplPJqxpMW"
      }
    },
    {
      "cell_type": "code",
      "source": [
        "def load_data(data_path):\n",
        "    df = pd.read_csv(data_path)\n",
        "    return df"
      ],
      "metadata": {
        "id": "TiGmcRE0Hm4Q"
      },
      "execution_count": null,
      "outputs": []
    },
    {
      "cell_type": "markdown",
      "source": [
        "Fill NaN values in a feature column using its average."
      ],
      "metadata": {
        "id": "0tqK4ORWxt8B"
      }
    },
    {
      "cell_type": "code",
      "source": [
        "def fill_nan_with_mean(df, feature):\n",
        "    # fill NaN values\n",
        "    mean_value = df[feature].mean()\n",
        "    df[feature].fillna(value=mean_value, inplace=True)"
      ],
      "metadata": {
        "id": "-dL6YARSSV63"
      },
      "execution_count": null,
      "outputs": []
    },
    {
      "cell_type": "markdown",
      "source": [
        "**Wrangle Data**\n",
        "- Fill feature columns with its corresponding mean\n",
        "- Fill smoking status of individuals less than 15 years old as \"never smoked\". It is safe to assume that to a large extent, children would not have smoked before.\n",
        "- Divide the Dataframe into two using the 'smoking_status' feature column:\n",
        "  - Dataframe of NaN values (dataframe A)\n",
        "  - Dataframe of the remaider observations (dataframe B)\n",
        "\n",
        "Note: \n",
        "\n",
        "- we are spliting the data into two to build a model that can predict on the 'smoking_status' NaN values (dataframe A) using information learnt from the existing values in (dataframe B)"
      ],
      "metadata": {
        "id": "42fJ1A76x9Df"
      }
    },
    {
      "cell_type": "code",
      "source": [
        "def wrangle_data(df, nan_features=None):\n",
        "\n",
        "    if nan_features:\n",
        "        if \"age\" in nan_features:\n",
        "            fill_nan_with_mean(df, \"age\")\n",
        "\n",
        "        if \"avg_glucose_level\" in nan_features:\n",
        "            fill_nan_with_mean(df, \"avg_glucose_level\")\n",
        "\n",
        "        if \"bmi\" in nan_features:\n",
        "            fill_nan_with_mean(df, \"bmi\") \n",
        "\n",
        "    # fill smoking status for young adults as never smoked\n",
        "    young_adult_df = df.loc[(df['age'] < 15)]\n",
        "    young_adult_nan_list = young_adult_df[young_adult_df['smoking_status'].isnull()].index.tolist()\n",
        "    df.at[young_adult_nan_list, 'smoking_status'] = 'never smoked'\n",
        "\n",
        "    # get all nan indexes\n",
        "    nan_index = df[df['smoking_status'].isnull()].index.tolist()  \n",
        "\n",
        "    # Seperate nan indexes from original data\n",
        "    df_index = [i for i in range(len(df))]\n",
        "    df_rem_index = list(set(df_index) - set(nan_index))\n",
        "    df_nan = df.iloc[nan_index,:]\n",
        "    df_rem = df.iloc[df_rem_index,:]\n",
        "    \n",
        "    return df, df_nan, df_rem"
      ],
      "metadata": {
        "id": "b4z5IcoBaDnU"
      },
      "execution_count": null,
      "outputs": []
    },
    {
      "cell_type": "markdown",
      "source": [
        "Define our Xs (independent variable) and ys (dependent variable) from the dataframe."
      ],
      "metadata": {
        "id": "frUV6LAJ0FiH"
      }
    },
    {
      "cell_type": "code",
      "source": [
        "def get_features_target(df, column_list):\n",
        "    X = df.drop(column_list, axis=1)\n",
        "    y_col = column_list[-1]\n",
        "    y = df[y_col]\n",
        "    return X, y"
      ],
      "metadata": {
        "id": "YfoKiH0-HrQC"
      },
      "execution_count": null,
      "outputs": []
    },
    {
      "cell_type": "markdown",
      "source": [
        "**Preprocess Data:**\n",
        "\n",
        "- Use a labelEncoder class to assign integer values to features with categorical values.\n",
        "- Drop columns that are not needed\n",
        "- Generate additional features and transform the X feature vector using the PolynomialFeatures api from sklearn"
      ],
      "metadata": {
        "id": "juP80lhy0gG_"
      }
    },
    {
      "cell_type": "code",
      "source": [
        "def preprocessing_data(df, preprocess_columns, drop_columns, encode_y, scale_feature=False):\n",
        "    label_encoder = LabelEncoder()\n",
        "\n",
        "    for column in preprocess_columns:\n",
        "        df.loc[:, column] = label_encoder.fit_transform(df[column])\n",
        "    \n",
        "    X, y = get_features_target(df, drop_columns)\n",
        "\n",
        "    if scale_feature:\n",
        "        polynomial_builder = PolynomialFeatures(degree=2, include_bias=False)\n",
        "        X = polynomial_builder.fit_transform(X)\n",
        "\n",
        "    if encode_y:\n",
        "        y = label_encoder.fit_transform(y)\n",
        "\n",
        "    return X, y"
      ],
      "metadata": {
        "id": "4_cXhKA4pzQv"
      },
      "execution_count": null,
      "outputs": []
    },
    {
      "cell_type": "markdown",
      "source": [
        "The dataset is heavily imbalanced so we would apply upsampling to balance the dataset where necessary"
      ],
      "metadata": {
        "id": "JQ4ZYwaV5DRo"
      }
    },
    {
      "cell_type": "code",
      "source": [
        "def balance_data(X, y):\n",
        "    sm = SMOTE(sampling_strategy='minority', random_state=42)\n",
        "    oversampled_X, oversampled_Y = sm.fit_resample(X, y)\n",
        "    \n",
        "    return oversampled_X, oversampled_Y"
      ],
      "metadata": {
        "id": "M-BSwOGIHuGA"
      },
      "execution_count": null,
      "outputs": []
    },
    {
      "cell_type": "markdown",
      "source": [
        "### Training"
      ],
      "metadata": {
        "id": "yKx6fLaDRmC4"
      }
    },
    {
      "cell_type": "markdown",
      "source": [
        "Train the defined model using preprocessed data"
      ],
      "metadata": {
        "id": "S9-WpH_i6RTH"
      }
    },
    {
      "cell_type": "code",
      "source": [
        "def train_data(X, y, classifier, classifier_name, show_performance):\n",
        "    from sklearn.metrics import accuracy_score, precision_score, recall_score, f1_score    \n",
        "    \n",
        "    performance = {}\n",
        "\n",
        "    # split data\n",
        "    X_train, X_test, y_train, y_test = train_test_split(X, y, \n",
        "                                                        random_state=46, \n",
        "                                                        train_size=.75, \n",
        "                                                        stratify=y)\n",
        "    \n",
        "    clf = classifier\n",
        "    clf.fit(X_train, y_train)\n",
        "    y_pred = clf.predict(X_test)\n",
        "\n",
        "    accuracy_score = accuracy_score(y_test, y_pred)\n",
        "    precision_score = precision_score(y_test, y_pred, average='micro')\n",
        "    recall_score = recall_score(y_test, y_pred, average='micro')\n",
        "    f1_score = f1_score(y_test, y_pred, average='micro')\n",
        "\n",
        "    if show_performance:\n",
        "        performance[\"Accuracy\"] = accuracy_score\n",
        "        performance[\"Precision\"] = precision_score\n",
        "        performance[\"Recall\"] = recall_score\n",
        "        performance[\"F1 score\"] = f1_score\n",
        "        return clf, y_pred, performance\n",
        "\n",
        "    return clf, y_pred, accuracy_score"
      ],
      "metadata": {
        "id": "vl6R2lsutO0q"
      },
      "execution_count": null,
      "outputs": []
    },
    {
      "cell_type": "markdown",
      "source": [
        "### Manage Operation"
      ],
      "metadata": {
        "id": "ZZ743WMyRqr4"
      }
    },
    {
      "cell_type": "markdown",
      "source": [
        "Create a manager class that handles end-to-end training of a single dataset."
      ],
      "metadata": {
        "id": "UHXBwnnwFaw7"
      }
    },
    {
      "cell_type": "code",
      "source": [
        "class Manager:\n",
        "    def __init__(self, data_path, nan_features):\n",
        "        self.df = load_data(data_path)\n",
        "        self.nan_features = nan_features\n",
        "    \n",
        "    def load_data(self):\n",
        "        self.df, self.df_nan, self.df_rem = wrangle_data(self.df, self.nan_features)\n",
        "        return self.df, self.df_nan, self.df_rem\n",
        "\n",
        "    def prepare_data(self, df, \n",
        "                     preprocess_columns, \n",
        "                     drop_columns, \n",
        "                     scale_feature=True, \n",
        "                     bal_data=True, \n",
        "                     encode_y=True): \n",
        "        X, y = preprocessing_data(df, \n",
        "                                  preprocess_columns, \n",
        "                                  drop_columns, \n",
        "                                  encode_y, \n",
        "                                  scale_feature)\n",
        "        if bal_data:\n",
        "            X, y = balance_data(X, y)\n",
        "        return X, y\n",
        "\n",
        "    def train_data(self, X, y, classifier, classifier_name, show_performance=True):\n",
        "        classifier, pred, scores = train_data(X, y, classifier, classifier_name, show_performance)\n",
        "        return classifier, pred, scores"
      ],
      "metadata": {
        "id": "csr89KZ7XYXE"
      },
      "execution_count": null,
      "outputs": []
    },
    {
      "cell_type": "markdown",
      "source": [
        "## Implementation"
      ],
      "metadata": {
        "id": "ikcKGTJ9XGm4"
      }
    },
    {
      "cell_type": "markdown",
      "source": [
        "Handle all dataset at once and store the results"
      ],
      "metadata": {
        "id": "u_Ss6YHwGUXr"
      }
    },
    {
      "cell_type": "code",
      "source": [
        "nan_feature_col = [\"age\", \"bmi\", \"avg_glucose_level\"]\n",
        "\n",
        "data_paths = {\n",
        "    \"/content/drive/MyDrive/public_health_ori.csv\": nan_feature_col[1],\n",
        "    \"/content/drive/MyDrive/public_health_syn_1.csv\": nan_feature_col,\n",
        "    \"/content/drive/MyDrive/public_health_syn_2.csv\": nan_feature_col\n",
        "    }\n",
        "\n",
        "# columns to preprocess\n",
        "INITIAL_PREPROCESS_COLUMNS = [\"gender\", \"ever_married\", \"work_type\", \"Residence_type\"]\n",
        "INITIAL_DROP_COLUMNS = ['Unnamed: 0', 'smoking_status']\n",
        "\n",
        "SECOND_PREPROCESS_COLUMNS = [\"gender\", \"ever_married\", \"work_type\", \"Residence_type\", \"smoking_status\"]\n",
        "SECOND_DROP_COLUMNS = ['Unnamed: 0']\n",
        "\n",
        "FINAL_PREPROCESS_COLUMNS = [\"gender\", \"ever_married\", \"work_type\", \"Residence_type\", \"smoking_status\"]\n",
        "FINAL_DROP_COLUMNS = ['stroke']\n",
        "\n",
        "performance_dict = {}\n",
        "data_privacy = {}\n",
        "\n",
        "for i, data_path in enumerate(data_paths.items()):\n",
        "    print(f\"Dataset {i}\")\n",
        "\n",
        "    data_manager = Manager(data_path[0], data_path[1])\n",
        "    df, df_nan, df_rem = data_manager.load_data()\n",
        "\n",
        "    #====================== FILL UP NAN VALUES IN DATASET ======================\n",
        "    # Train XGBoost model using the dataset that has no NaN values\n",
        "    # XGBoost model seems to be the best performing model for this task\n",
        "\n",
        "    DF = data_manager.df_rem\n",
        "\n",
        "    # Preprocess df using the INITIAL_PREPROCESS_COLUMNS and \n",
        "    # INITIAL_DROP_COLUMNS\n",
        "    X, y = data_manager.prepare_data(df=DF, \n",
        "                                     preprocess_columns=INITIAL_PREPROCESS_COLUMNS, \n",
        "                                     drop_columns=INITIAL_DROP_COLUMNS)\n",
        "    \n",
        "    CLASSIFIER=xgb.XGBClassifier()\n",
        "    CLASSIFIER_NAME=\"Xgboost\"\n",
        "    classifier, pred, score = data_manager.train_data(X, y,\n",
        "                                                      classifier=CLASSIFIER, \n",
        "                                                      classifier_name=CLASSIFIER_NAME,\n",
        "                                                      show_performance=False)\n",
        "\n",
        "\n",
        "    # Predict NaN values in the 'smoking_status' feature column using \n",
        "    # trained XGBoost model\n",
        "\n",
        "    DF = data_manager.df_nan\n",
        "    BAL_DATA = False\n",
        "    ENCODE_Y = False\n",
        "\n",
        "    X_nan, _ = data_manager.prepare_data(df=DF,\n",
        "                                         preprocess_columns=INITIAL_PREPROCESS_COLUMNS, \n",
        "                                         drop_columns=INITIAL_DROP_COLUMNS,\n",
        "                                         bal_data=BAL_DATA,\n",
        "                                         encode_y=ENCODE_Y)\n",
        "    y_nan_pred = classifier.predict(X_nan)\n",
        "    nan_index_list = DF.index.tolist()\n",
        "\n",
        "    # Input the predicted values for NaNs into the main dataframe to create\n",
        "    # a new dataframe with no NaN values\n",
        "    DF = data_manager.df\n",
        "    SCALE_FEATURE = False\n",
        "    BAL_DATA = False\n",
        "    ENCODE_Y = False\n",
        "\n",
        "    new_df, _ = data_manager.prepare_data(df=DF,\n",
        "                                          preprocess_columns=SECOND_PREPROCESS_COLUMNS, \n",
        "                                          drop_columns=SECOND_DROP_COLUMNS,\n",
        "                                          scale_feature=SCALE_FEATURE,\n",
        "                                          bal_data=BAL_DATA,\n",
        "                                          encode_y=ENCODE_Y)\n",
        "\n",
        "    new_df.at[nan_index_list, 'smoking_status'] = y_nan_pred \n",
        "\n",
        "    #===================== BUILD MODEL USING THE MAIN DATA =====================\n",
        "    # Random Forest Classifier model seems to be the best performing model \n",
        "    # for this task\n",
        "\n",
        "    DF = new_df\n",
        "    SCALE_FEATURE = False\n",
        "    BAL_DATA = True\n",
        "    ENCODE_Y = False\n",
        "\n",
        "    X, y = data_manager.prepare_data(df=DF,\n",
        "                                     preprocess_columns=FINAL_PREPROCESS_COLUMNS, \n",
        "                                     drop_columns=FINAL_DROP_COLUMNS,\n",
        "                                     scale_feature=SCALE_FEATURE,\n",
        "                                     bal_data=BAL_DATA,\n",
        "                                     encode_y=ENCODE_Y)\n",
        "    \n",
        "    CLASSIFIER = RandomForestClassifier()\n",
        "    CLASSIFIER_NAME = \"Random Forest\"\n",
        "\n",
        "    classifier, y_pred, performance = data_manager.train_data(X, y,\n",
        "                                                              classifier=CLASSIFIER, \n",
        "                                                              classifier_name=CLASSIFIER_NAME)\n",
        "\n",
        "    performance_dict[f\"Dataset {i}\"] = performance\n",
        "\n",
        "    #================================= PRIVACY =================================\n",
        "    error_avg = []\n",
        "    privacy_data = {}\n",
        "    \n",
        "    # Values are between 0 & 1\n",
        "    col1 = [\"hypertension\", \"heart_disease\", \"ever_married\", \"Residence_type\", \"stroke\"]\n",
        "    # Values are between 1 & 2\n",
        "    col2 = [\"gender\", \"smoking_status\"]\n",
        "    \n",
        "    for ind, column in enumerate(new_df.columns):\n",
        "        # We know from the dataset that everyone in the dataset is at least 1 \n",
        "        # years of age. As of 2019, less than 0.005% of the world's population \n",
        "        # is aged over 100, so this is an appropriate simplification. Values \n",
        "        # in the dataset above 100 will be excluded from calculations.\n",
        "        range_ = (1, 100)\n",
        "        if column in col1:\n",
        "            range_ = (0, 1)\n",
        "        elif column in col2:\n",
        "            range_ = (0, 2)\n",
        "        # Values are between 1 & 2\n",
        "        elif column == \"work_type\":\n",
        "            range_ = (0, 4) \n",
        "        # A normal blood glucose level for adults, without diabetes, who haven’t \n",
        "        # eaten for at least eight hours (fasting) is less than 100 mg/dL. A \n",
        "        # normal blood glucose level for adults, without diabetes, two hours \n",
        "        # after eating, is 90 to 110 mg/dL.\n",
        "        elif column == \"avg_glucose_level\":\n",
        "            range_ = (80, 110) \n",
        "        # Values are between 10 & 30\n",
        "        # The ideal bmi for adults is 18.5 to 24.9\n",
        "        # The ideal bmi for children is 2 to 18        \n",
        "        elif column == \"bmi\":\n",
        "            range_ = (2, 25)                         \n",
        "        \n",
        "        column_data = new_df.iloc[:, ind].values\n",
        "\n",
        "        # Using Numpy's native histogram function, we can get the distribution \n",
        "        # of the feature column.\n",
        "        hist, bins = np.histogram(column_data)\n",
        "        hist = hist / hist.sum()\n",
        "\n",
        "        # dp_hist, dp_bins = dp.histogram(column_data)\n",
        "        # dp_hist = dp_hist / dp_hist.sum()\n",
        "        # error = np.abs(hist - dp_hist).sum()\n",
        "\n",
        "        # Using diffprivlib, we can calculate a differentially private version \n",
        "        # of the histogram.\n",
        "        dp_hist, dp_bins = dp.histogram(column_data, epsilon=0.1, range=range_)\n",
        "        dp_hist = dp_hist / dp_hist.sum()\n",
        "\n",
        "        # Total histogram error\n",
        "        error = np.abs(hist - dp_hist).sum()\n",
        "        error_avg.append(error)\n",
        "\n",
        "    # Calculate the average error of all columns in a dataset\n",
        "    avg_mean_error = mean(error_avg)\n",
        "    data_privacy[f\"Dataset {i}\"] = avg_mean_error"
      ],
      "metadata": {
        "colab": {
          "base_uri": "https://localhost:8080/"
        },
        "id": "We2z3owyjZ4f",
        "outputId": "dddf394d-1fd3-47e4-8e59-e52d46eeef98"
      },
      "execution_count": null,
      "outputs": [
        {
          "output_type": "stream",
          "name": "stdout",
          "text": [
            "Dataset 0\n",
            "Dataset 1\n",
            "Dataset 2\n"
          ]
        }
      ]
    },
    {
      "cell_type": "markdown",
      "source": [
        "## Metrics"
      ],
      "metadata": {
        "id": "ghcjLP_sB7sL"
      }
    },
    {
      "cell_type": "markdown",
      "source": [
        "### Utility"
      ],
      "metadata": {
        "id": "PsxGExyTGfzI"
      }
    },
    {
      "cell_type": "code",
      "source": [
        "for metric, result in performance_dict.items():\n",
        "    print(f\"{metric}: {result}\")"
      ],
      "metadata": {
        "colab": {
          "base_uri": "https://localhost:8080/"
        },
        "id": "3NTKyQE9BPoj",
        "outputId": "5b7b95e6-0956-46df-d4a6-b5777e2ab8f9"
      },
      "execution_count": null,
      "outputs": [
        {
          "output_type": "stream",
          "name": "stdout",
          "text": [
            "Dataset 0: {'Accuracy': 0.9730630250129053, 'Precision': 0.9730630250129053, 'Recall': 0.9730630250129053, 'F1 score': 0.9730630250129053}\n",
            "Dataset 1: {'Accuracy': 0.9674422968662038, 'Precision': 0.9674422968662038, 'Recall': 0.9674422968662038, 'F1 score': 0.9674422968662038}\n",
            "Dataset 2: {'Accuracy': 0.9659854357528777, 'Precision': 0.9659854357528777, 'Recall': 0.9659854357528777, 'F1 score': 0.9659854357528778}\n"
          ]
        }
      ]
    },
    {
      "cell_type": "markdown",
      "source": [
        "**My thought:**\n",
        "\n",
        "- I built and trained a model on the original dataset to get a baseline accuracy score.\n",
        "\n",
        "- Test that model on the synthetic datasets; the extent to which the result deviates from the original shows how much similar the datasets are.\n",
        "\n",
        "- This inturn shows how much utility the synthetic dataset has in comparison to its parent dataset (original dataset)."
      ],
      "metadata": {
        "id": "UZGtbscuMlcj"
      }
    },
    {
      "cell_type": "markdown",
      "source": [
        "**Deduction**\n",
        "\n",
        "With the above logic:\n",
        "\n",
        "- The more similar synthetic dataset to the original dataset is:\n",
        "public_health_syn_1.csv"
      ],
      "metadata": {
        "id": "kamIlUKB4C83"
      }
    },
    {
      "cell_type": "markdown",
      "source": [
        "### Privacy"
      ],
      "metadata": {
        "id": "2vvSkDkdGir0"
      }
    },
    {
      "cell_type": "code",
      "source": [
        "for i, data in data_privacy.items():\n",
        "    print(f\"{i}: {data}\")"
      ],
      "metadata": {
        "colab": {
          "base_uri": "https://localhost:8080/"
        },
        "id": "33bZVUcE0AM0",
        "outputId": "ead998ca-96a5-4a52-a050-9609a617752b"
      },
      "execution_count": null,
      "outputs": [
        {
          "output_type": "stream",
          "name": "stdout",
          "text": [
            "Dataset 0 0.35997563667963617\n",
            "Dataset 1 0.29559558988630064\n",
            "Dataset 2 0.3227503324671602\n"
          ]
        }
      ]
    },
    {
      "cell_type": "markdown",
      "source": [
        "**My thought:**\n",
        "\n",
        "- Using diffprivlib, we can calculate how much privacy is in a column using specific parameters:\n",
        "  - epsilon: how much noise is introduced into the dataset.\n",
        "  - range: the upper and lower bounds on which to focus the privacy calculation.\n",
        "\n",
        "- The mean error shows the average error in the dataset, in orderwords, it shows how private the data in the dataset is."
      ],
      "metadata": {
        "id": "zKKVEwdMF9ub"
      }
    },
    {
      "cell_type": "markdown",
      "source": [
        "**Deduction**\n",
        "\n",
        "With the above logic:\n",
        "\n",
        "- Using the original dataset's privacy as the baseline, the synthetic dataset with the farthest value from the baseline value would be the most private dataset.\n",
        "  - the most private dataset would be: public_health_syn_1.csv"
      ],
      "metadata": {
        "id": "7ucMLfvWF9ui"
      }
    },
    {
      "cell_type": "markdown",
      "source": [
        "### Suggestion:\n",
        "\n",
        "- public_health_syn_1.csv would be the best dataset to use in place of the original because it has the highest utility and the most private."
      ],
      "metadata": {
        "id": "AD6kakzPMadD"
      }
    }
  ]
}